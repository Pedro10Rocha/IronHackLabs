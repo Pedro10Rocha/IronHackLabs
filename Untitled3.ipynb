{
 "cells": [
  {
   "cell_type": "code",
   "execution_count": 8,
   "id": "edf5febf",
   "metadata": {},
   "outputs": [],
   "source": [
    "import pandas as pd\n",
    "df = pd.read_csv('TRAJETORIAS_DATASET_Environmental_dimension_indicators.csv')"
   ]
  },
  {
   "cell_type": "code",
   "execution_count": 9,
   "id": "3bae3088",
   "metadata": {},
   "outputs": [
    {
     "data": {
      "text/html": [
       "<div>\n",
       "<style scoped>\n",
       "    .dataframe tbody tr th:only-of-type {\n",
       "        vertical-align: middle;\n",
       "    }\n",
       "\n",
       "    .dataframe tbody tr th {\n",
       "        vertical-align: top;\n",
       "    }\n",
       "\n",
       "    .dataframe thead th {\n",
       "        text-align: right;\n",
       "    }\n",
       "</style>\n",
       "<table border=\"1\" class=\"dataframe\">\n",
       "  <thead>\n",
       "    <tr style=\"text-align: right;\">\n",
       "      <th></th>\n",
       "      <th>state_abbrev,\"state\",\"municipality\",\"geocode\",\"period\",\"refor\",\"secveg\",\"pasture\",\"crop\",\"urban\",\"core\",\"edge\",\"port\",\"river\",\"road\",\"mining\",\"fire\",\"dgorg\",\"dgfor\",\"defor\",\"deorg\",\"precp\",\"precn\",\"tempp\"</th>\n",
       "    </tr>\n",
       "  </thead>\n",
       "  <tbody>\n",
       "    <tr>\n",
       "      <th>0</th>\n",
       "      <td>AC,\"Acre\",\"Santa Rosa do Purus\",\"1200435\",2006...</td>\n",
       "    </tr>\n",
       "    <tr>\n",
       "      <th>1</th>\n",
       "      <td>AC,\"Acre\",\"Marechal Thaumaturgo\",\"1200351\",200...</td>\n",
       "    </tr>\n",
       "    <tr>\n",
       "      <th>2</th>\n",
       "      <td>AC,\"Acre\",\"Porto Walter\",\"1200393\",2006,\"0.977...</td>\n",
       "    </tr>\n",
       "    <tr>\n",
       "      <th>3</th>\n",
       "      <td>AC,\"Acre\",\"Jordão\",\"1200328\",2006,\"0.978644303...</td>\n",
       "    </tr>\n",
       "    <tr>\n",
       "      <th>4</th>\n",
       "      <td>AC,\"Acre\",\"Feijó\",\"1200302\",2006,\"0.9558723163...</td>\n",
       "    </tr>\n",
       "    <tr>\n",
       "      <th>...</th>\n",
       "      <td>...</td>\n",
       "    </tr>\n",
       "    <tr>\n",
       "      <th>1541</th>\n",
       "      <td>TO,\"Tocantins\",\"Tocantinópolis\",\"1721208\",2017...</td>\n",
       "    </tr>\n",
       "    <tr>\n",
       "      <th>1542</th>\n",
       "      <td>TO,\"Tocantins\",\"Tupirama\",\"1721257\",2017,\"NA\",...</td>\n",
       "    </tr>\n",
       "    <tr>\n",
       "      <th>1543</th>\n",
       "      <td>TO,\"Tocantins\",\"Tupiratins\",\"1721307\",2017,\"0....</td>\n",
       "    </tr>\n",
       "    <tr>\n",
       "      <th>1544</th>\n",
       "      <td>TO,\"Tocantins\",\"Wanderlândia\",\"1722081\",2017,\"...</td>\n",
       "    </tr>\n",
       "    <tr>\n",
       "      <th>1545</th>\n",
       "      <td>TO,\"Tocantins\",\"Xambioá\",\"1722107\",2017,\"0.131...</td>\n",
       "    </tr>\n",
       "  </tbody>\n",
       "</table>\n",
       "<p>1546 rows × 1 columns</p>\n",
       "</div>"
      ],
      "text/plain": [
       "     state_abbrev,\"state\",\"municipality\",\"geocode\",\"period\",\"refor\",\"secveg\",\"pasture\",\"crop\",\"urban\",\"core\",\"edge\",\"port\",\"river\",\"road\",\"mining\",\"fire\",\"dgorg\",\"dgfor\",\"defor\",\"deorg\",\"precp\",\"precn\",\"tempp\"\n",
       "0     AC,\"Acre\",\"Santa Rosa do Purus\",\"1200435\",2006...                                                                                                                                                          \n",
       "1     AC,\"Acre\",\"Marechal Thaumaturgo\",\"1200351\",200...                                                                                                                                                          \n",
       "2     AC,\"Acre\",\"Porto Walter\",\"1200393\",2006,\"0.977...                                                                                                                                                          \n",
       "3     AC,\"Acre\",\"Jordão\",\"1200328\",2006,\"0.978644303...                                                                                                                                                          \n",
       "4     AC,\"Acre\",\"Feijó\",\"1200302\",2006,\"0.9558723163...                                                                                                                                                          \n",
       "...                                                 ...                                                                                                                                                          \n",
       "1541  TO,\"Tocantins\",\"Tocantinópolis\",\"1721208\",2017...                                                                                                                                                          \n",
       "1542  TO,\"Tocantins\",\"Tupirama\",\"1721257\",2017,\"NA\",...                                                                                                                                                          \n",
       "1543  TO,\"Tocantins\",\"Tupiratins\",\"1721307\",2017,\"0....                                                                                                                                                          \n",
       "1544  TO,\"Tocantins\",\"Wanderlândia\",\"1722081\",2017,\"...                                                                                                                                                          \n",
       "1545  TO,\"Tocantins\",\"Xambioá\",\"1722107\",2017,\"0.131...                                                                                                                                                          \n",
       "\n",
       "[1546 rows x 1 columns]"
      ]
     },
     "execution_count": 9,
     "metadata": {},
     "output_type": "execute_result"
    }
   ],
   "source": [
    "df"
   ]
  },
  {
   "cell_type": "code",
   "execution_count": null,
   "id": "dd4171c9",
   "metadata": {},
   "outputs": [],
   "source": []
  }
 ],
 "metadata": {
  "kernelspec": {
   "display_name": "Python 3 (ipykernel)",
   "language": "python",
   "name": "python3"
  },
  "language_info": {
   "codemirror_mode": {
    "name": "ipython",
    "version": 3
   },
   "file_extension": ".py",
   "mimetype": "text/x-python",
   "name": "python",
   "nbconvert_exporter": "python",
   "pygments_lexer": "ipython3",
   "version": "3.9.13"
  }
 },
 "nbformat": 4,
 "nbformat_minor": 5
}
