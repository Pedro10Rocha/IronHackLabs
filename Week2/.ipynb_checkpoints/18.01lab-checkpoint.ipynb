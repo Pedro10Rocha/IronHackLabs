{
 "cells": [
  {
   "cell_type": "code",
   "execution_count": null,
   "id": "389c28b5",
   "metadata": {},
   "outputs": [],
   "source": [
    "import pandas as pd\n",
    "import numpy as np\n",
    "import matplotlib.pyplot as plt\n",
    "import seaborn as sns\n",
    "%matplotlib inline"
   ]
  },
  {
   "cell_type": "code",
   "execution_count": null,
   "id": "666f4e56",
   "metadata": {},
   "outputs": [],
   "source": [
    "df = pd.read_csv('Data_Marketing_Customer_Analysis_Round3.csv')\n",
    "df"
   ]
  },
  {
   "cell_type": "markdown",
   "id": "e458851d",
   "metadata": {},
   "source": [
    "As a reminder the objective of this study is to predict the total claim amount of a customer and study/investigate the impact of the factors (input features) on the target variable(total claim amount). That means in your exploratory data analysis, you have to look for patterns in this data that shows interesting relationships among the input features as well as with relation to the target feature.\n",
    "\n",
    "Get the numeric data into dataframe called numerical and categorical columns in a dataframe called categoricals. (You can use np.number and np.object to select the numerical data types and categorical data types respectively)"
   ]
  },
  {
   "cell_type": "code",
   "execution_count": null,
   "id": "d0d4008b",
   "metadata": {},
   "outputs": [],
   "source": [
    "#drop the column we won't use\n",
    "df = df.drop('effective_to_date', axis=1)\n",
    "#create two new DataFrames: one for numerical values. other for categoricals\n",
    "numerical = df.select_dtypes(include=[np.number])\n",
    "categoricals = df.select_dtypes(include=np.object)\n",
    "numerical"
   ]
  },
  {
   "cell_type": "code",
   "execution_count": null,
   "id": "032742ea",
   "metadata": {},
   "outputs": [],
   "source": [
    "categoricals"
   ]
  },
  {
   "cell_type": "markdown",
   "id": "0fe7be35",
   "metadata": {},
   "source": [
    "Now we will try to check the normality of the numerical variables visually\n",
    "Use seaborn library to construct distribution plots for the numerical variables\n",
    "Use Matplotlib to construct histograms.\n",
    "Do the distributions for different numerical variables look like a normal distribution?"
   ]
  },
  {
   "cell_type": "code",
   "execution_count": null,
   "id": "2c7bd749",
   "metadata": {},
   "outputs": [],
   "source": [
    "#checking all the columns\n",
    "numerical.columns"
   ]
  },
  {
   "cell_type": "code",
   "execution_count": null,
   "id": "c9a16935",
   "metadata": {},
   "outputs": [],
   "source": [
    "#create one distribution plot for each column\n",
    "customer_lifetime_value = sns.displot(df['customer_lifetime_value'], kde=True)\n",
    "income = sns.displot(df['income'])\n",
    "monthly_premium_auto = sns.displot(df, x= 'monthly_premium_auto')\n",
    "months_since_last_claim = sns.displot(df, x= 'months_since_last_claim')\n",
    "months_since_policy_inception = sns.displot(df, x= 'months_since_policy_inception')\n",
    "number_of_open_complaints = sns.displot(df, x= 'number_of_open_complaints')\n",
    "number_of_policies = sns.displot(df, x= 'number_of_policies')\n",
    "total_claim_amount = sns.displot(df, x= 'total_claim_amount')"
   ]
  },
  {
   "cell_type": "code",
   "execution_count": null,
   "id": "fa9e7a21",
   "metadata": {
    "scrolled": true
   },
   "outputs": [],
   "source": [
    "#create the histograms\n",
    "numerical.hist(figsize=(15,15))"
   ]
  },
  {
   "cell_type": "markdown",
   "id": "212ebc3f",
   "metadata": {},
   "source": [
    "For the numerical variables, check for correlation between the input features. Note: this does not include the target feature."
   ]
  },
  {
   "cell_type": "code",
   "execution_count": null,
   "id": "ccffe139",
   "metadata": {},
   "outputs": [],
   "source": [
    "numerical"
   ]
  },
  {
   "cell_type": "code",
   "execution_count": null,
   "id": "fc49ea05",
   "metadata": {},
   "outputs": [],
   "source": [
    "sns.scatterplot(x=numerical.number_of_open_complaints, y=numerical.number_of_policies)"
   ]
  },
  {
   "cell_type": "code",
   "execution_count": null,
   "id": "33a97320",
   "metadata": {},
   "outputs": [],
   "source": []
  },
  {
   "cell_type": "code",
   "execution_count": null,
   "id": "41868be6",
   "metadata": {},
   "outputs": [],
   "source": [
    "xt = sns.relplot(data=numerical, kind=\"line\", x=\"income\", y=\"number_of_policies\")\n",
    "xt"
   ]
  },
  {
   "cell_type": "code",
   "execution_count": null,
   "id": "1931f1af",
   "metadata": {},
   "outputs": [],
   "source": [
    "sns.heatmap(numerical.corr(), cmap='Reds', annot=True)"
   ]
  },
  {
   "cell_type": "code",
   "execution_count": null,
   "id": "edf9cbe5",
   "metadata": {},
   "outputs": [],
   "source": [
    "sns.scatterplot(x=numerical.monthly_premium_auto, y=numerical.customer_lifetime_value)"
   ]
  },
  {
   "cell_type": "code",
   "execution_count": null,
   "id": "470a76f2",
   "metadata": {},
   "outputs": [],
   "source": [
    "categoricals"
   ]
  },
  {
   "cell_type": "markdown",
   "id": "e375f01e",
   "metadata": {},
   "source": [
    "Show a plot of the total number of responses."
   ]
  },
  {
   "cell_type": "code",
   "execution_count": null,
   "id": "fc36edf2",
   "metadata": {},
   "outputs": [],
   "source": [
    "responses = categoricals['response'].value_counts()\n",
    "responses\n",
    "plt.bar(responses.index, responses, color=('red','green'))"
   ]
  },
  {
   "cell_type": "markdown",
   "id": "4cbcf9eb",
   "metadata": {},
   "source": [
    "Show a plot of the response by the sales channel."
   ]
  },
  {
   "cell_type": "code",
   "execution_count": null,
   "id": "62716b93",
   "metadata": {},
   "outputs": [],
   "source": [
    "response_sales = categoricals.groupby(['response', 'sales_channel'])['gender'].count().rename('count').reset_index()\n",
    "response_sales\n",
    "\n",
    "palette_response = {\"yes\": 'C4', \"no\": \"C0\"}\n",
    "sns.barplot(x = response_sales['sales_channel'],y=response_sales['count'], hue = response_sales['response'], palette=palette_response)\n"
   ]
  },
  {
   "cell_type": "markdown",
   "id": "9c4cc7a0",
   "metadata": {},
   "source": [
    "Show a plot of the response by the total claim amount."
   ]
  },
  {
   "cell_type": "code",
   "execution_count": 39,
   "id": "c4d4ccf0",
   "metadata": {},
   "outputs": [],
   "source": [
    "def total_range(i):\n",
    "        if i <= 300:\n",
    "            return 300 \n",
    "        elif i <= 600:\n",
    "            return 600\n",
    "        elif i <= 900:\n",
    "            return 900\n",
    "        elif i <= 1200:\n",
    "            return 1200\n",
    "        elif i <= 1600:\n",
    "            return 1600\n",
    "        elif i <= 1900:\n",
    "            return 1900\n",
    "        elif i <= 2200:\n",
    "            return 2200\n",
    "        elif i <= 2600:\n",
    "            return 2600\n",
    "        elif i > 2600:\n",
    "            return 2893\n",
    "        \n",
    "df['new_total_claim_amount'] = list(map(total_range,df['total_claim_amount']))"
   ]
  },
  {
   "cell_type": "code",
   "execution_count": null,
   "id": "eb40c093",
   "metadata": {},
   "outputs": [],
   "source": [
    "numerical['total_claim_amount'].max()\n"
   ]
  },
  {
   "cell_type": "code",
   "execution_count": 41,
   "id": "22056761",
   "metadata": {},
   "outputs": [
    {
     "data": {
      "text/plain": [
       "(array([0, 1, 2, 3, 4, 5, 6, 7, 8]),\n",
       " [Text(0, 0, '0 to 300'),\n",
       "  Text(1, 0, '301 to 600'),\n",
       "  Text(2, 0, '6001 to 900'),\n",
       "  Text(3, 0, '901 to 1200'),\n",
       "  Text(4, 0, '1201 to 1600'),\n",
       "  Text(5, 0, '1601 to 1900'),\n",
       "  Text(6, 0, '19001 to 2200'),\n",
       "  Text(7, 0, '2201 to 1600'),\n",
       "  Text(8, 0, '1601 to 2893')])"
      ]
     },
     "execution_count": 41,
     "metadata": {},
     "output_type": "execute_result"
    },
    {
     "data": {
      "image/png": "[encoded data removed]",
      "text/plain": [
       "<Figure size 640x480 with 1 Axes>"
      ]
     },
     "metadata": {},
     "output_type": "display_data"
    }
   ],
   "source": [
    "sns.countplot(x='new_total_claim_amount', hue='response', data=df)\n",
    "plt.xticks(ticks=np.arange(9), labels=['0 to 300', '301 to 600', '6001 to 900', '901 to 1200', '1201 to 1600', '1601 to 1900', '19001 to 2200', '2201 to 1600', '1601 to 2893'])\n",
    "plt.xticks(rotation=90)"
   ]
  },
  {
   "cell_type": "code",
   "execution_count": 35,
   "id": "a9a608f7",
   "metadata": {},
   "outputs": [
    {
     "data": {
      "text/plain": [
       "2893"
      ]
     },
     "execution_count": 35,
     "metadata": {},
     "output_type": "execute_result"
    }
   ],
   "source": [
    "numerical['total_claim_amount'].max()"
   ]
  },
  {
   "cell_type": "markdown",
   "id": "829e413a",
   "metadata": {},
   "source": [
    "Show a plot of the response by income."
   ]
  },
  {
   "cell_type": "code",
   "execution_count": null,
   "id": "d24a053c",
   "metadata": {},
   "outputs": [],
   "source": []
  },
  {
   "cell_type": "code",
   "execution_count": null,
   "id": "547e9df7",
   "metadata": {},
   "outputs": [],
   "source": []
  }
 ],
 "metadata": {
  "kernelspec": {
   "display_name": "Python 3 (ipykernel)",
   "language": "python",
   "name": "python3"
  },
  "language_info": {
   "codemirror_mode": {
    "name": "ipython",
    "version": 3
   },
   "file_extension": ".py",
   "mimetype": "text/x-python",
   "name": "python",
   "nbconvert_exporter": "python",
   "pygments_lexer": "ipython3",
   "version": "3.9.13"
  }
 },
 "nbformat": 4,
 "nbformat_minor": 5
}
