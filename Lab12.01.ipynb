{
 "cells": [
  {
   "cell_type": "markdown",
   "id": "36a00602",
   "metadata": {},
   "source": [
    "numpy exercises\n",
    "This is a collection of exercises that have been collected in the numpy mailing list, on stack overflow and in the numpy documentation. The goal of this collection is to offer a quick reference for both old and new users but also to provide a set of exercises for those who teach.\n",
    "\n",
    "If you find an error or think you've a better way to solve some of them, feel free to open an issue at https://github.com/rougier/numpy-100. File automatically generated. See the documentation to update questions/answers/hints programmatically.\n",
    "\n",
    "1. Import the numpy package under the name np (★☆☆)\n",
    "hint: import … as\n",
    "\n"
   ]
  },
  {
   "cell_type": "code",
   "execution_count": 4,
   "id": "6d41351f",
   "metadata": {},
   "outputs": [],
   "source": [
    "import numpy as np"
   ]
  },
  {
   "cell_type": "markdown",
   "id": "7a5e0a7a",
   "metadata": {},
   "source": [
    "2. Create a null vector of size 10 (★☆☆)\n",
    "hint: np.zeros\n",
    "\n"
   ]
  },
  {
   "cell_type": "code",
   "execution_count": null,
   "id": "b8577443",
   "metadata": {},
   "outputs": [],
   "source": [
    "np.zeros(10)"
   ]
  },
  {
   "cell_type": "markdown",
   "id": "7eb78340",
   "metadata": {},
   "source": [
    "3. Create a null vector of size 10 but the fifth value which is 1 (★☆☆)\n",
    "hint: array[4]\n",
    "\n"
   ]
  },
  {
   "cell_type": "code",
   "execution_count": null,
   "id": "d540714e",
   "metadata": {},
   "outputs": [],
   "source": [
    "x = np.zeros(10)\n",
    "x[4] = 1\n",
    "print(x)"
   ]
  },
  {
   "cell_type": "markdown",
   "id": "3d394f69",
   "metadata": {},
   "source": [
    "4. Create a vector with values ranging from 10 to 49 (★☆☆)\n",
    "hint: arange\n",
    "\n"
   ]
  },
  {
   "cell_type": "code",
   "execution_count": null,
   "id": "75fbaa49",
   "metadata": {},
   "outputs": [],
   "source": [
    "np.arange(10, 50)"
   ]
  },
  {
   "cell_type": "markdown",
   "id": "69e96b39",
   "metadata": {},
   "source": [
    "5. Create a 3x3 matrix with values ranging from 0 to 8 (★☆☆)\n",
    "hint: reshape\n",
    "\n"
   ]
  },
  {
   "cell_type": "code",
   "execution_count": 9,
   "id": "07544df4",
   "metadata": {},
   "outputs": [
    {
     "name": "stdout",
     "output_type": "stream",
     "text": [
      "[[0 1 2]\n",
      " [3 4 5]\n",
      " [6 7 8]]\n"
     ]
    },
    {
     "data": {
      "text/plain": [
       "\"\\n    Return the shape of an array.\\n\\n    Parameters\\n    ----------\\n    a : array_like\\n        Input array.\\n\\n    Returns\\n    -------\\n    shape : tuple of ints\\n        The elements of the shape tuple give the lengths of the\\n        corresponding array dimensions.\\n\\n    See Also\\n    --------\\n    len\\n    ndarray.shape : Equivalent array method.\\n\\n    Examples\\n    --------\\n    >>> np.shape(np.eye(3))\\n    (3, 3)\\n    >>> np.shape([[1, 2]])\\n    (1, 2)\\n    >>> np.shape([0])\\n    (1,)\\n    >>> np.shape(0)\\n    ()\\n\\n    >>> a = np.array([(1, 2), (3, 4)], dtype=[('x', 'i4'), ('y', 'i4')])\\n    >>> np.shape(a)\\n    (2,)\\n    >>> a.shape\\n    (2,)\\n\\n    \""
      ]
     },
     "execution_count": 9,
     "metadata": {},
     "output_type": "execute_result"
    }
   ],
   "source": [
    "y = np.arange(0,9).reshape((3,3))\n",
    "print(y)"
   ]
  },
  {
   "cell_type": "markdown",
   "id": "e4415cc4",
   "metadata": {},
   "source": [
    "6. Find indices of non-zero elements from [1,2,0,0,4,0] (★☆☆)\n",
    "hint: np.nonzero\n",
    "\n"
   ]
  },
  {
   "cell_type": "code",
   "execution_count": 10,
   "id": "29aff7a4",
   "metadata": {},
   "outputs": [
    {
     "data": {
      "text/plain": [
       "\"array(object, dtype=None, *, copy=True, order='K', subok=False, ndmin=0,\\n          like=None)\\n\\n    Create an array.\\n\\n    Parameters\\n    ----------\\n    object : array_like\\n        An array, any object exposing the array interface, an object whose\\n        __array__ method returns an array, or any (nested) sequence.\\n    dtype : data-type, optional\\n        The desired data-type for the array.  If not given, then the type will\\n        be determined as the minimum type required to hold the objects in the\\n        sequence.\\n    copy : bool, optional\\n        If true (default), then the object is copied.  Otherwise, a copy will\\n        only be made if __array__ returns a copy, if obj is a nested sequence,\\n        or if a copy is needed to satisfy any of the other requirements\\n        (`dtype`, `order`, etc.).\\n    order : {'K', 'A', 'C', 'F'}, optional\\n        Specify the memory layout of the array. If object is not an array, the\\n        newly created array will be in C order (row major) unless 'F' is\\n        specified, in which case it will be in Fortran order (column major).\\n        If object is an array the following holds.\\n\\n        ===== ========= ===================================================\\n        order  no copy                     copy=True\\n        ===== ========= ===================================================\\n        'K'   unchanged F & C order preserved, otherwise most similar order\\n        'A'   unchanged F order if input is F and not C, otherwise C order\\n        'C'   C order   C order\\n        'F'   F order   F order\\n        ===== ========= ===================================================\\n\\n        When ``copy=False`` and a copy is made for other reasons, the result is\\n        the same as if ``copy=True``, with some exceptions for 'A', see the\\n        Notes section. The default order is 'K'.\\n    subok : bool, optional\\n        If True, then sub-classes will be passed-through, otherwise\\n        the returned array will be forced to be a base-class array (default).\\n    ndmin : int, optional\\n        Specifies the minimum number of dimensions that the resulting\\n        array should have.  Ones will be pre-pended to the shape as\\n        needed to meet this requirement.\\n    like : array_like\\n        Reference object to allow the creation of arrays which are not\\n        NumPy arrays. If an array-like passed in as ``like`` supports\\n        the ``__array_function__`` protocol, the result will be defined\\n        by it. In this case, it ensures the creation of an array object\\n        compatible with that passed in via this argument.\\n\\n        .. versionadded:: 1.20.0\\n\\n    Returns\\n    -------\\n    out : ndarray\\n        An array object satisfying the specified requirements.\\n\\n    See Also\\n    --------\\n    empty_like : Return an empty array with shape and type of input.\\n    ones_like : Return an array of ones with shape and type of input.\\n    zeros_like : Return an array of zeros with shape and type of input.\\n    full_like : Return a new array with shape of input filled with value.\\n    empty : Return a new uninitialized array.\\n    ones : Return a new array setting values to one.\\n    zeros : Return a new array setting values to zero.\\n    full : Return a new array of given shape filled with value.\\n\\n\\n    Notes\\n    -----\\n    When order is 'A' and `object` is an array in neither 'C' nor 'F' order,\\n    and a copy is forced by a change in dtype, then the order of the result is\\n    not necessarily 'C' as expected. This is likely a bug.\\n\\n    Examples\\n    --------\\n    >>> np.array([1, 2, 3])\\n    array([1, 2, 3])\\n\\n    Upcasting:\\n\\n    >>> np.array([1, 2, 3.0])\\n    array([ 1.,  2.,  3.])\\n\\n    More than one dimension:\\n\\n    >>> np.array([[1, 2], [3, 4]])\\n    array([[1, 2],\\n           [3, 4]])\\n\\n    Minimum dimensions 2:\\n\\n    >>> np.array([1, 2, 3], ndmin=2)\\n    array([[1, 2, 3]])\\n\\n    Type provided:\\n\\n    >>> np.array([1, 2, 3], dtype=complex)\\n    array([ 1.+0.j,  2.+0.j,  3.+0.j])\\n\\n    Data-type consisting of more than one element:\\n\\n    >>> x = np.array([(1,2),(3,4)],dtype=[('a','<i4'),('b','<i4')])\\n    >>> x['a']\\n    array([1, 3])\\n\\n    Creating an array from sub-classes:\\n\\n    >>> np.array(np.mat('1 2; 3 4'))\\n    array([[1, 2],\\n           [3, 4]])\\n\\n    >>> np.array(np.mat('1 2; 3 4'), subok=True)\\n    matrix([[1, 2],\\n            [3, 4]])\""
      ]
     },
     "execution_count": 10,
     "metadata": {},
     "output_type": "execute_result"
    }
   ],
   "source": [
    "z = np.array([1,2,0,0,4,0])\n",
    "np.nonzero(z)"
   ]
  },
  {
   "cell_type": "markdown",
   "id": "87cf9c46",
   "metadata": {},
   "source": [
    "7. Create a 3x3 identity matrix (★☆☆)\n",
    "hint: np.eye\n",
    "\n"
   ]
  },
  {
   "cell_type": "code",
   "execution_count": 13,
   "id": "100f154e",
   "metadata": {},
   "outputs": [
    {
     "name": "stdout",
     "output_type": "stream",
     "text": [
      "[[1. 0. 0.]\n",
      " [0. 1. 0.]\n",
      " [0. 0. 1.]]\n"
     ]
    }
   ],
   "source": [
    "q = np.eye(3,3,0)\n",
    "print(q)"
   ]
  },
  {
   "cell_type": "markdown",
   "id": "53bd3aba",
   "metadata": {},
   "source": [
    "8. Create a 3x3x3 array with random values (★☆☆)\n",
    "hint: np.random.random\n",
    "\n"
   ]
  },
  {
   "cell_type": "code",
   "execution_count": null,
   "id": "6bc4c672",
   "metadata": {},
   "outputs": [],
   "source": [
    "d = np.random.random((3,3,3))\n",
    "print(d)"
   ]
  },
  {
   "cell_type": "markdown",
   "id": "be2652b5",
   "metadata": {},
   "source": [
    "9. Create a 10x10 array with random values and find the minimum and maximum values (★☆☆)\n",
    "hint: min, max\n",
    "\n"
   ]
  },
  {
   "cell_type": "code",
   "execution_count": null,
   "id": "2be22851",
   "metadata": {},
   "outputs": [],
   "source": [
    "p = np.random.random((10,10))\n",
    "np.min(p)\n",
    "np.max(p)"
   ]
  },
  {
   "cell_type": "markdown",
   "id": "b3f98d2f",
   "metadata": {},
   "source": [
    "10. Create a random vector of size 30 and find the mean value (★☆☆)\n",
    "hint: mean\n",
    "\n"
   ]
  },
  {
   "cell_type": "code",
   "execution_count": 12,
   "id": "878c006e",
   "metadata": {},
   "outputs": [
    {
     "name": "stdout",
     "output_type": "stream",
     "text": [
      "[[0.5854395  0.94808982 0.9770274  0.81638091 0.60342668 0.23932486\n",
      "  0.44888018 0.45351172 0.96622652 0.35985968 0.10875059 0.88478289\n",
      "  0.02724274 0.04408638 0.87863847 0.32528702 0.69040806 0.4875432\n",
      "  0.95839611 0.96187086 0.1155426  0.09368167 0.53847613 0.07127548\n",
      "  0.72708121 0.64411735 0.65254768 0.08206659 0.63332136 0.19733972]]\n"
     ]
    },
    {
     "data": {
      "text/plain": [
       "0.5173541125658528"
      ]
     },
     "execution_count": 12,
     "metadata": {},
     "output_type": "execute_result"
    }
   ],
   "source": [
    "j = np.random.random((1,30))\n",
    "print(j)\n",
    "np.mean(j)"
   ]
  },
  {
   "cell_type": "markdown",
   "id": "e3dfa6c4",
   "metadata": {},
   "source": [
    "11. Create a 5x5 matrix with values 1,2,3,4 just below the diagonal (★☆☆)\n",
    "hint: np.diag\n",
    "\n"
   ]
  },
  {
   "cell_type": "code",
   "execution_count": 14,
   "id": "cd9d463c",
   "metadata": {},
   "outputs": [
    {
     "name": "stdout",
     "output_type": "stream",
     "text": [
      "[[0 0 0 0 0]\n",
      " [1 0 0 0 0]\n",
      " [0 2 0 0 0]\n",
      " [0 0 3 0 0]\n",
      " [0 0 0 4 0]]\n"
     ]
    }
   ],
   "source": [
    "l = np.diag((1,2,3,4), k=-1)\n",
    "print(l)"
   ]
  },
  {
   "cell_type": "markdown",
   "id": "229d0742",
   "metadata": {},
   "source": [
    "12. Normalize a 5x5 random matrix (★☆☆)\n",
    "hint: (x -mean)/std\n",
    "\n"
   ]
  },
  {
   "cell_type": "code",
   "execution_count": 86,
   "id": "6067a7ba",
   "metadata": {},
   "outputs": [
    {
     "name": "stdout",
     "output_type": "stream",
     "text": [
      "[[28.92604551  3.92604551 35.92604551 11.92604551 17.92604551]\n",
      " [12.92604551 33.92604551  2.92604551 29.92604551  7.92604551]\n",
      " [15.92604551 17.92604551 36.92604551 -0.07395449 32.92604551]\n",
      " [10.92604551 24.92604551 23.92604551 25.92604551 18.92604551]\n",
      " [20.92604551 14.92604551 16.92604551 13.92604551 12.92604551]]\n"
     ]
    }
   ],
   "source": [
    "er = np.random.randint(1,40, (5,5))\n",
    "normalize = er - np.mean(er)/np.std(er)\n",
    "print(normalize)"
   ]
  },
  {
   "cell_type": "markdown",
   "id": "ae6656c8",
   "metadata": {},
   "source": [
    "\n",
    "13. How to find common values between two arrays? (★☆☆)\n",
    "hint: np.intersect1d\n",
    "\n"
   ]
  },
  {
   "cell_type": "code",
   "execution_count": 100,
   "id": "71dbe3be",
   "metadata": {},
   "outputs": [
    {
     "name": "stdout",
     "output_type": "stream",
     "text": [
      "[1 2 3 4 5 6 8 9]\n"
     ]
    }
   ],
   "source": [
    "u = np.random.randint(1,10, (4,4))\n",
    "ou = np.random.randint(1,10, (4,4))\n",
    "gro = np.intersect1d(u,ou)\n",
    "print(gro)"
   ]
  },
  {
   "cell_type": "markdown",
   "id": "4e875a09",
   "metadata": {},
   "source": [
    "14. Create a random vector of size 10 and sort it (★★☆)\n",
    "hint: sort\n",
    "\n"
   ]
  },
  {
   "cell_type": "code",
   "execution_count": 112,
   "id": "90dcd8f0",
   "metadata": {},
   "outputs": [
    {
     "name": "stdout",
     "output_type": "stream",
     "text": [
      "[ 1  1  7 10  6  5  9  9  2  2]\n"
     ]
    },
    {
     "data": {
      "text/plain": [
       "array([ 1,  1,  2,  2,  5,  6,  7,  9,  9, 10])"
      ]
     },
     "execution_count": 112,
     "metadata": {},
     "output_type": "execute_result"
    }
   ],
   "source": [
    "qw = np.random.randint(1,11, (10))\n",
    "print(qw)\n",
    "np.sort(qw)"
   ]
  },
  {
   "cell_type": "markdown",
   "id": "ce4495ee",
   "metadata": {},
   "source": [
    "15. Create random vector of size 10 and replace the maximum value by 0 (★★☆)\n",
    "hint: argmax\n",
    "\n"
   ]
  },
  {
   "cell_type": "code",
   "execution_count": 17,
   "id": "b0b9fead",
   "metadata": {},
   "outputs": [
    {
     "name": "stdout",
     "output_type": "stream",
     "text": [
      "[1 8 6 4 1 4 6 2 0 1]\n"
     ]
    }
   ],
   "source": [
    "kj = np.random.randint(1,11, (10))\n",
    "yu = np.argmax(kj)\n",
    "kj[yu] = 0\n",
    "print(kj)"
   ]
  },
  {
   "cell_type": "markdown",
   "id": "80af3b02",
   "metadata": {},
   "source": [
    "16. Subtract the mean of each row of a matrix (★★☆)\n",
    "hint: mean(axis=,keepdims=)\n",
    "\n"
   ]
  },
  {
   "cell_type": "code",
   "execution_count": 124,
   "id": "d04dcf53",
   "metadata": {},
   "outputs": [
    {
     "name": "stdout",
     "output_type": "stream",
     "text": [
      "[[ 1.5 -0.5 -4.5  1.5  1.5 -0.5 -1.5 -1.5  2.5  1.5]\n",
      " [-2.4 -4.4  4.6 -3.4  1.6  2.6 -0.4 -1.4  4.6 -1.4]\n",
      " [-2.7 -2.7  3.3  3.3 -3.7  3.3  2.3  1.3 -1.7 -2.7]\n",
      " [ 2.6  2.6 -0.4 -0.4 -1.4 -4.4 -5.4  0.6  2.6  3.6]\n",
      " [ 1.3 -1.7  4.3 -2.7  4.3  3.3 -1.7 -2.7 -1.7 -2.7]\n",
      " [ 3.7 -2.3  2.7 -2.3 -3.3  3.7 -2.3 -3.3  0.7  2.7]\n",
      " [ 0.8  1.8 -0.2  0.8 -2.2  1.8  1.8 -2.2  0.8 -3.2]\n",
      " [ 3.3 -1.7  1.3 -3.7  4.3  3.3 -2.7  3.3 -2.7 -4.7]\n",
      " [ 0.8 -2.2  2.8 -4.2  2.8  3.8 -1.2 -0.2  2.8 -5.2]\n",
      " [-0.6  2.4  1.4  0.4 -2.6 -4.6  2.4  2.4  0.4 -1.6]]\n"
     ]
    }
   ],
   "source": [
    "start = np.random.randint(1,11, (10,10))\n",
    "mean = start -start.mean(axis=1, keepdims = True)\n",
    "print(mean)"
   ]
  },
  {
   "cell_type": "markdown",
   "id": "bdde4fe7",
   "metadata": {},
   "source": [
    "17. How to get the n largest values of an array (★★★)\n",
    "Z = np.arange(10000) np.random.shuffle(Z) n = 5 hint: np.argsort | np.argpartition"
   ]
  },
  {
   "cell_type": "code",
   "execution_count": null,
   "id": "eafec070",
   "metadata": {},
   "outputs": [],
   "source": [
    "Z = np.arange(10000) np.random.shuffle(Z) n = 5"
   ]
  },
  {
   "cell_type": "markdown",
   "id": "793ebedd",
   "metadata": {},
   "source": [
    "18. Create a random 5*3 matrix and replace items that are larger than 4 by their squares ( Example: 6 --> 36)\n",
    "hint: np.where"
   ]
  },
  {
   "cell_type": "code",
   "execution_count": 20,
   "id": "6d4be066",
   "metadata": {},
   "outputs": [
    {
     "name": "stdout",
     "output_type": "stream",
     "text": [
      "[[ 64  64 100  81 100   2   2 100  49  64]\n",
      " [ 49  25  36   3 100   2  81  81   4  81]\n",
      " [ 81 100  36   3   1 100  49 100   4 100]\n",
      " [ 49  36   3  49  25  64  36 100   3  36]\n",
      " [ 25   2  81 100 100   1   3  64  64  49]\n",
      " [100   1   2  36   4   4  64  81 100  25]\n",
      " [  3  25   4  25   4  64   1   1  36   4]\n",
      " [  3   1   2   2  25  36   1  25   2   4]\n",
      " [  2  25   3   2  25  49  25  81  81 100]\n",
      " [ 81  36   1 100   1   2   3  36  81 100]]\n"
     ]
    }
   ],
   "source": [
    "gh = np.random.randint(1,11, (10,10))\n",
    "gs = np.where(gh > 4, gh**2, gh)\n",
    "print(gs)"
   ]
  },
  {
   "cell_type": "code",
   "execution_count": null,
   "id": "9a2b3dd0",
   "metadata": {},
   "outputs": [],
   "source": []
  }
 ],
 "metadata": {
  "kernelspec": {
   "display_name": "Python 3 (ipykernel)",
   "language": "python",
   "name": "python3"
  },
  "language_info": {
   "codemirror_mode": {
    "name": "ipython",
    "version": 3
   },
   "file_extension": ".py",
   "mimetype": "text/x-python",
   "name": "python",
   "nbconvert_exporter": "python",
   "pygments_lexer": "ipython3",
   "version": "3.9.13"
  }
 },
 "nbformat": 4,
 "nbformat_minor": 5
}
