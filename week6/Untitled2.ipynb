{
 "cells": [
  {
   "cell_type": "code",
   "execution_count": null,
   "id": "cb1ba49f",
   "metadata": {},
   "outputs": [],
   "source": [
    "import config\n",
    "import spotipy\n",
    "import json\n",
    "from spotipy.oauth2 import SpotifyClientCredentials\n",
    "import pprint\n",
    "import pandas as pd"
   ]
  },
  {
   "cell_type": "code",
   "execution_count": null,
   "id": "7db35dbb",
   "metadata": {},
   "outputs": [],
   "source": [
    "sp = spotipy.Spotify(auth_manager=SpotifyClientCredentials(client_id= config.client_id,\n",
    "                                                           client_secret= config.client_secret))"
   ]
  },
  {
   "cell_type": "code",
   "execution_count": null,
   "id": "68c186b9",
   "metadata": {},
   "outputs": [],
   "source": [
    "playlist = sp.user_playlist_tracks(\"spotify\", \"37i9dQZF1DXbSbnqxMTGx9\", market='GE')\n",
    "playlist"
   ]
  },
  {
   "cell_type": "code",
   "execution_count": null,
   "id": "743643a6",
   "metadata": {},
   "outputs": [],
   "source": [
    "def get_playlist_tracks(username, playlist_id):\n",
    "    results = sp.user_playlist_tracks(username,playlist_id,market=\"GE\")\n",
    "    tracks = results['items']\n",
    "    while results['next']:\n",
    "        results = sp.next(results)\n",
    "        tracks.extend(results['items'])\n",
    "    return tracks"
   ]
  },
  {
   "cell_type": "code",
   "execution_count": 133,
   "id": "e9a58573",
   "metadata": {},
   "outputs": [],
   "source": [
    "tracks=[\"37i9dQZF1DXbSbnqxMTGx9\", \"5BygwTQ3OrbiwVsQhXFHMz\", \"37i9dQZF1DWTUHOvJwQIMp\", \"1h0CEZCm6IbFTbxThn6Xcs\", \"37i9dQZF1EQnqst5TRi17F\", \"37i9dQZF1DX9tPFwDMOaN1\", \"37i9dQZF1DX9tPFwDMOaN1\", '6mtYuOxzl58vSGnEDtZ9uB']\n",
    "musics = []\n",
    "for x in tracks:\n",
    "    musics += get_playlist_tracks(\"spotify\", x)"
   ]
  },
  {
   "cell_type": "code",
   "execution_count": 135,
   "id": "8cc6effb",
   "metadata": {},
   "outputs": [
    {
     "data": {
      "text/plain": [
       "1170"
      ]
     },
     "execution_count": 135,
     "metadata": {},
     "output_type": "execute_result"
    }
   ],
   "source": [
    "len(musics)"
   ]
  },
  {
   "cell_type": "code",
   "execution_count": 136,
   "id": "9f489f94",
   "metadata": {},
   "outputs": [],
   "source": [
    "list_of_audio_features=[]\n",
    "for item in range(len(musics)):\n",
    "    #print (tracks[item][\"track\"][\"id\"])\n",
    "    list_of_audio_features.append(sp.audio_features(musics[item][\"track\"][\"id\"])[0])\n",
    "  "
   ]
  },
  {
   "cell_type": "code",
   "execution_count": 125,
   "id": "93bc098c",
   "metadata": {},
   "outputs": [],
   "source": []
  },
  {
   "cell_type": "code",
   "execution_count": 137,
   "id": "7581ff59",
   "metadata": {},
   "outputs": [],
   "source": [
    "df = pd.DataFrame(list_of_audio_features)\n",
    "df=df[[\"danceability\",\"energy\",\"loudness\",\"speechiness\",\"acousticness\",\n",
    "    \"instrumentalness\",\"liveness\",\"valence\",\"tempo\",\"id\",\"duration_ms\"]]"
   ]
  },
  {
   "cell_type": "code",
   "execution_count": 138,
   "id": "6fc9d8ce",
   "metadata": {},
   "outputs": [
    {
     "data": {
      "text/html": [
       "<div>\n",
       "<style scoped>\n",
       "    .dataframe tbody tr th:only-of-type {\n",
       "        vertical-align: middle;\n",
       "    }\n",
       "\n",
       "    .dataframe tbody tr th {\n",
       "        vertical-align: top;\n",
       "    }\n",
       "\n",
       "    .dataframe thead th {\n",
       "        text-align: right;\n",
       "    }\n",
       "</style>\n",
       "<table border=\"1\" class=\"dataframe\">\n",
       "  <thead>\n",
       "    <tr style=\"text-align: right;\">\n",
       "      <th></th>\n",
       "      <th>danceability</th>\n",
       "      <th>energy</th>\n",
       "      <th>loudness</th>\n",
       "      <th>speechiness</th>\n",
       "      <th>acousticness</th>\n",
       "      <th>instrumentalness</th>\n",
       "      <th>liveness</th>\n",
       "      <th>valence</th>\n",
       "      <th>tempo</th>\n",
       "      <th>id</th>\n",
       "      <th>duration_ms</th>\n",
       "    </tr>\n",
       "  </thead>\n",
       "  <tbody>\n",
       "    <tr>\n",
       "      <th>0</th>\n",
       "      <td>0.703</td>\n",
       "      <td>0.336</td>\n",
       "      <td>-15.422</td>\n",
       "      <td>0.3340</td>\n",
       "      <td>0.093700</td>\n",
       "      <td>0.025800</td>\n",
       "      <td>0.0447</td>\n",
       "      <td>0.712</td>\n",
       "      <td>73.911</td>\n",
       "      <td>5MKYnizdhDDik45mEncVXu</td>\n",
       "      <td>310707</td>\n",
       "    </tr>\n",
       "    <tr>\n",
       "      <th>1</th>\n",
       "      <td>0.830</td>\n",
       "      <td>0.467</td>\n",
       "      <td>-10.936</td>\n",
       "      <td>0.0953</td>\n",
       "      <td>0.055100</td>\n",
       "      <td>0.000016</td>\n",
       "      <td>0.0662</td>\n",
       "      <td>0.837</td>\n",
       "      <td>140.569</td>\n",
       "      <td>2C7V873vI6fomP10lVwcfm</td>\n",
       "      <td>198440</td>\n",
       "    </tr>\n",
       "    <tr>\n",
       "      <th>2</th>\n",
       "      <td>0.777</td>\n",
       "      <td>0.402</td>\n",
       "      <td>-9.378</td>\n",
       "      <td>0.1560</td>\n",
       "      <td>0.009530</td>\n",
       "      <td>0.000848</td>\n",
       "      <td>0.0973</td>\n",
       "      <td>0.634</td>\n",
       "      <td>73.412</td>\n",
       "      <td>21BiCaMzG9Lfs0Pj5ItwX0</td>\n",
       "      <td>200800</td>\n",
       "    </tr>\n",
       "    <tr>\n",
       "      <th>3</th>\n",
       "      <td>0.637</td>\n",
       "      <td>0.612</td>\n",
       "      <td>-7.298</td>\n",
       "      <td>0.0661</td>\n",
       "      <td>0.031400</td>\n",
       "      <td>0.000326</td>\n",
       "      <td>0.1550</td>\n",
       "      <td>0.711</td>\n",
       "      <td>76.295</td>\n",
       "      <td>6O4FoKdYi42CFjfd0MM04n</td>\n",
       "      <td>191160</td>\n",
       "    </tr>\n",
       "    <tr>\n",
       "      <th>4</th>\n",
       "      <td>0.664</td>\n",
       "      <td>0.687</td>\n",
       "      <td>-6.172</td>\n",
       "      <td>0.1730</td>\n",
       "      <td>0.006590</td>\n",
       "      <td>0.000000</td>\n",
       "      <td>0.1350</td>\n",
       "      <td>0.525</td>\n",
       "      <td>86.348</td>\n",
       "      <td>4o6ZuLYr04LqFQNiSGVK4u</td>\n",
       "      <td>258653</td>\n",
       "    </tr>\n",
       "    <tr>\n",
       "      <th>...</th>\n",
       "      <td>...</td>\n",
       "      <td>...</td>\n",
       "      <td>...</td>\n",
       "      <td>...</td>\n",
       "      <td>...</td>\n",
       "      <td>...</td>\n",
       "      <td>...</td>\n",
       "      <td>...</td>\n",
       "      <td>...</td>\n",
       "      <td>...</td>\n",
       "      <td>...</td>\n",
       "    </tr>\n",
       "    <tr>\n",
       "      <th>1165</th>\n",
       "      <td>0.722</td>\n",
       "      <td>0.820</td>\n",
       "      <td>-3.793</td>\n",
       "      <td>0.1460</td>\n",
       "      <td>0.079100</td>\n",
       "      <td>0.000000</td>\n",
       "      <td>0.6150</td>\n",
       "      <td>0.713</td>\n",
       "      <td>127.941</td>\n",
       "      <td>7E9XQbKJbkFwcGwjSF9Qlk</td>\n",
       "      <td>210813</td>\n",
       "    </tr>\n",
       "    <tr>\n",
       "      <th>1166</th>\n",
       "      <td>0.772</td>\n",
       "      <td>0.648</td>\n",
       "      <td>-6.222</td>\n",
       "      <td>0.0612</td>\n",
       "      <td>0.161000</td>\n",
       "      <td>0.000000</td>\n",
       "      <td>0.2690</td>\n",
       "      <td>0.741</td>\n",
       "      <td>129.966</td>\n",
       "      <td>0x4KuMldlnPMniT86Cmyep</td>\n",
       "      <td>225560</td>\n",
       "    </tr>\n",
       "    <tr>\n",
       "      <th>1167</th>\n",
       "      <td>0.613</td>\n",
       "      <td>0.857</td>\n",
       "      <td>-5.492</td>\n",
       "      <td>0.0366</td>\n",
       "      <td>0.001200</td>\n",
       "      <td>0.000000</td>\n",
       "      <td>0.3580</td>\n",
       "      <td>0.664</td>\n",
       "      <td>124.987</td>\n",
       "      <td>56ZrTFkANjeAMiS14njg4E</td>\n",
       "      <td>182000</td>\n",
       "    </tr>\n",
       "    <tr>\n",
       "      <th>1168</th>\n",
       "      <td>0.702</td>\n",
       "      <td>0.705</td>\n",
       "      <td>-6.666</td>\n",
       "      <td>0.0543</td>\n",
       "      <td>0.258000</td>\n",
       "      <td>0.000006</td>\n",
       "      <td>0.0879</td>\n",
       "      <td>0.743</td>\n",
       "      <td>154.911</td>\n",
       "      <td>5a7NdkF09AfD0H607eiOkX</td>\n",
       "      <td>213445</td>\n",
       "    </tr>\n",
       "    <tr>\n",
       "      <th>1169</th>\n",
       "      <td>0.534</td>\n",
       "      <td>0.870</td>\n",
       "      <td>-3.078</td>\n",
       "      <td>0.0425</td>\n",
       "      <td>0.000334</td>\n",
       "      <td>0.000000</td>\n",
       "      <td>0.2410</td>\n",
       "      <td>0.462</td>\n",
       "      <td>126.019</td>\n",
       "      <td>0JiY190vktuhSGN6aqJdrt</td>\n",
       "      <td>215160</td>\n",
       "    </tr>\n",
       "  </tbody>\n",
       "</table>\n",
       "<p>1170 rows × 11 columns</p>\n",
       "</div>"
      ],
      "text/plain": [
       "      danceability  energy  loudness  speechiness  acousticness  \\\n",
       "0            0.703   0.336   -15.422       0.3340      0.093700   \n",
       "1            0.830   0.467   -10.936       0.0953      0.055100   \n",
       "2            0.777   0.402    -9.378       0.1560      0.009530   \n",
       "3            0.637   0.612    -7.298       0.0661      0.031400   \n",
       "4            0.664   0.687    -6.172       0.1730      0.006590   \n",
       "...            ...     ...       ...          ...           ...   \n",
       "1165         0.722   0.820    -3.793       0.1460      0.079100   \n",
       "1166         0.772   0.648    -6.222       0.0612      0.161000   \n",
       "1167         0.613   0.857    -5.492       0.0366      0.001200   \n",
       "1168         0.702   0.705    -6.666       0.0543      0.258000   \n",
       "1169         0.534   0.870    -3.078       0.0425      0.000334   \n",
       "\n",
       "      instrumentalness  liveness  valence    tempo                      id  \\\n",
       "0             0.025800    0.0447    0.712   73.911  5MKYnizdhDDik45mEncVXu   \n",
       "1             0.000016    0.0662    0.837  140.569  2C7V873vI6fomP10lVwcfm   \n",
       "2             0.000848    0.0973    0.634   73.412  21BiCaMzG9Lfs0Pj5ItwX0   \n",
       "3             0.000326    0.1550    0.711   76.295  6O4FoKdYi42CFjfd0MM04n   \n",
       "4             0.000000    0.1350    0.525   86.348  4o6ZuLYr04LqFQNiSGVK4u   \n",
       "...                ...       ...      ...      ...                     ...   \n",
       "1165          0.000000    0.6150    0.713  127.941  7E9XQbKJbkFwcGwjSF9Qlk   \n",
       "1166          0.000000    0.2690    0.741  129.966  0x4KuMldlnPMniT86Cmyep   \n",
       "1167          0.000000    0.3580    0.664  124.987  56ZrTFkANjeAMiS14njg4E   \n",
       "1168          0.000006    0.0879    0.743  154.911  5a7NdkF09AfD0H607eiOkX   \n",
       "1169          0.000000    0.2410    0.462  126.019  0JiY190vktuhSGN6aqJdrt   \n",
       "\n",
       "      duration_ms  \n",
       "0          310707  \n",
       "1          198440  \n",
       "2          200800  \n",
       "3          191160  \n",
       "4          258653  \n",
       "...           ...  \n",
       "1165       210813  \n",
       "1166       225560  \n",
       "1167       182000  \n",
       "1168       213445  \n",
       "1169       215160  \n",
       "\n",
       "[1170 rows x 11 columns]"
      ]
     },
     "execution_count": 138,
     "metadata": {},
     "output_type": "execute_result"
    }
   ],
   "source": [
    "df"
   ]
  },
  {
   "cell_type": "code",
   "execution_count": 139,
   "id": "d8a2ecaa",
   "metadata": {},
   "outputs": [],
   "source": [
    "def get_playlist_tracks(username, playlist_id):\n",
    "    results = sp.user_playlist_tracks(username,playlist_id,market=\"GE\")\n",
    "    tracks = results['items']\n",
    "    while results['next']:\n",
    "        results = sp.next(results)\n",
    "        tracks.extend(results['items'])\n",
    "    return tracks2"
   ]
  },
  {
   "cell_type": "code",
   "execution_count": 140,
   "id": "9a7732ff",
   "metadata": {},
   "outputs": [],
   "source": [
    "tracks2 = ['5oGTgRerzAJhQBar8I9KWj']\n",
    "mu = []\n",
    "for i in tracks:\n",
    "    mu += get_playlist_tracks(\"spotify\", i)"
   ]
  },
  {
   "cell_type": "code",
   "execution_count": null,
   "id": "67bcd9f2",
   "metadata": {},
   "outputs": [],
   "source": [
    "list_of_audio=[]\n",
    "for item in range(len(mu)):\n",
    "    #print (tracks[item][\"track\"][\"id\"])\n",
    "    list_of_audio_features.append(sp.audio_features(mu[item][\"track\"][\"id\"])[0])"
   ]
  },
  {
   "cell_type": "code",
   "execution_count": 144,
   "id": "be366af0",
   "metadata": {},
   "outputs": [
    {
     "ename": "NameError",
     "evalue": "name 'list_of_audio' is not defined",
     "output_type": "error",
     "traceback": [
      "\u001b[1;31m---------------------------------------------------------------------------\u001b[0m",
      "\u001b[1;31mNameError\u001b[0m                                 Traceback (most recent call last)",
      "\u001b[1;32m~\\AppData\\Local\\Temp\\ipykernel_4916\\1523908223.py\u001b[0m in \u001b[0;36m<module>\u001b[1;34m\u001b[0m\n\u001b[1;32m----> 1\u001b[1;33m \u001b[0mdf2\u001b[0m \u001b[1;33m=\u001b[0m \u001b[0mpd\u001b[0m\u001b[1;33m.\u001b[0m\u001b[0mDataFrame\u001b[0m\u001b[1;33m(\u001b[0m\u001b[0mlist_of_audio\u001b[0m\u001b[1;33m)\u001b[0m\u001b[1;33m\u001b[0m\u001b[1;33m\u001b[0m\u001b[0m\n\u001b[0m\u001b[0;32m      2\u001b[0m df2=df[[\"danceability\",\"energy\",\"loudness\",\"speechiness\",\"acousticness\",\n\u001b[0;32m      3\u001b[0m     \"instrumentalness\",\"liveness\",\"valence\",\"tempo\",\"id\",\"duration_ms\"]]\n",
      "\u001b[1;31mNameError\u001b[0m: name 'list_of_audio' is not defined"
     ]
    }
   ],
   "source": [
    "df2 = pd.DataFrame(list_of_audio)\n",
    "df2=df[[\"danceability\",\"energy\",\"loudness\",\"speechiness\",\"acousticness\",\n",
    "    \"instrumentalness\",\"liveness\",\"valence\",\"tempo\",\"id\",\"duration_ms\"]]"
   ]
  },
  {
   "cell_type": "code",
   "execution_count": 143,
   "id": "ca72d40d",
   "metadata": {},
   "outputs": [
    {
     "ename": "NameError",
     "evalue": "name 'df2' is not defined",
     "output_type": "error",
     "traceback": [
      "\u001b[1;31m---------------------------------------------------------------------------\u001b[0m",
      "\u001b[1;31mNameError\u001b[0m                                 Traceback (most recent call last)",
      "\u001b[1;32m~\\AppData\\Local\\Temp\\ipykernel_4916\\3882145664.py\u001b[0m in \u001b[0;36m<module>\u001b[1;34m\u001b[0m\n\u001b[1;32m----> 1\u001b[1;33m \u001b[0mdf2\u001b[0m\u001b[1;33m\u001b[0m\u001b[1;33m\u001b[0m\u001b[0m\n\u001b[0m",
      "\u001b[1;31mNameError\u001b[0m: name 'df2' is not defined"
     ]
    }
   ],
   "source": [
    "df2"
   ]
  },
  {
   "cell_type": "code",
   "execution_count": null,
   "id": "ecfb1fa2",
   "metadata": {},
   "outputs": [],
   "source": []
  }
 ],
 "metadata": {
  "kernelspec": {
   "display_name": "Python 3 (ipykernel)",
   "language": "python",
   "name": "python3"
  },
  "language_info": {
   "codemirror_mode": {
    "name": "ipython",
    "version": 3
   },
   "file_extension": ".py",
   "mimetype": "text/x-python",
   "name": "python",
   "nbconvert_exporter": "python",
   "pygments_lexer": "ipython3",
   "version": "3.9.13"
  }
 },
 "nbformat": 4,
 "nbformat_minor": 5
}
