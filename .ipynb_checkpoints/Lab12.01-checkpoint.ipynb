{
 "cells": [
  {
   "cell_type": "markdown",
   "id": "36a00602",
   "metadata": {},
   "source": [
    "numpy exercises\n",
    "This is a collection of exercises that have been collected in the numpy mailing list, on stack overflow and in the numpy documentation. The goal of this collection is to offer a quick reference for both old and new users but also to provide a set of exercises for those who teach.\n",
    "\n",
    "If you find an error or think you've a better way to solve some of them, feel free to open an issue at https://github.com/rougier/numpy-100. File automatically generated. See the documentation to update questions/answers/hints programmatically.\n",
    "\n",
    "1. Import the numpy package under the name np (★☆☆)\n",
    "hint: import … as\n",
    "\n"
   ]
  },
  {
   "cell_type": "code",
   "execution_count": null,
   "id": "6d41351f",
   "metadata": {},
   "outputs": [],
   "source": [
    "import numpy as np"
   ]
  },
  {
   "cell_type": "markdown",
   "id": "7a5e0a7a",
   "metadata": {},
   "source": [
    "2. Create a null vector of size 10 (★☆☆)\n",
    "hint: np.zeros\n",
    "\n"
   ]
  },
  {
   "cell_type": "code",
   "execution_count": null,
   "id": "b8577443",
   "metadata": {},
   "outputs": [],
   "source": [
    "np.zeros(10)"
   ]
  },
  {
   "cell_type": "markdown",
   "id": "7eb78340",
   "metadata": {},
   "source": [
    "3. Create a null vector of size 10 but the fifth value which is 1 (★☆☆)\n",
    "hint: array[4]\n",
    "\n"
   ]
  },
  {
   "cell_type": "code",
   "execution_count": null,
   "id": "d540714e",
   "metadata": {},
   "outputs": [],
   "source": [
    "x = np.zeros(10)\n",
    "x[4] = 1\n",
    "print(x)"
   ]
  },
  {
   "cell_type": "markdown",
   "id": "3d394f69",
   "metadata": {},
   "source": [
    "4. Create a vector with values ranging from 10 to 49 (★☆☆)\n",
    "hint: arange\n",
    "\n"
   ]
  },
  {
   "cell_type": "code",
   "execution_count": null,
   "id": "75fbaa49",
   "metadata": {},
   "outputs": [],
   "source": [
    "np.arange(10, 50)"
   ]
  },
  {
   "cell_type": "markdown",
   "id": "69e96b39",
   "metadata": {},
   "source": [
    "5. Create a 3x3 matrix with values ranging from 0 to 8 (★☆☆)\n",
    "hint: reshape\n",
    "\n"
   ]
  },
  {
   "cell_type": "code",
   "execution_count": null,
   "id": "07544df4",
   "metadata": {},
   "outputs": [],
   "source": [
    "y = np.arange(0,9).reshape((3,3))\n",
    "print(y)"
   ]
  },
  {
   "cell_type": "markdown",
   "id": "e4415cc4",
   "metadata": {},
   "source": [
    "6. Find indices of non-zero elements from [1,2,0,0,4,0] (★☆☆)\n",
    "hint: np.nonzero\n",
    "\n"
   ]
  },
  {
   "cell_type": "code",
   "execution_count": null,
   "id": "29aff7a4",
   "metadata": {},
   "outputs": [],
   "source": [
    "z = np.array([1,2,0,0,4,0])\n",
    "np.nonzero(z)"
   ]
  },
  {
   "cell_type": "markdown",
   "id": "87cf9c46",
   "metadata": {},
   "source": [
    "7. Create a 3x3 identity matrix (★☆☆)\n",
    "hint: np.eye\n",
    "\n"
   ]
  },
  {
   "cell_type": "code",
   "execution_count": null,
   "id": "100f154e",
   "metadata": {},
   "outputs": [],
   "source": [
    "q = np.eye(3,3,0)\n",
    "print(q)"
   ]
  },
  {
   "cell_type": "markdown",
   "id": "53bd3aba",
   "metadata": {},
   "source": [
    "8. Create a 3x3x3 array with random values (★☆☆)\n",
    "hint: np.random.random\n",
    "\n"
   ]
  },
  {
   "cell_type": "code",
   "execution_count": null,
   "id": "6bc4c672",
   "metadata": {},
   "outputs": [],
   "source": [
    "d = np.random.random((3,3,3))\n",
    "print(d)"
   ]
  },
  {
   "cell_type": "markdown",
   "id": "be2652b5",
   "metadata": {},
   "source": [
    "9. Create a 10x10 array with random values and find the minimum and maximum values (★☆☆)\n",
    "hint: min, max\n",
    "\n"
   ]
  },
  {
   "cell_type": "code",
   "execution_count": null,
   "id": "2be22851",
   "metadata": {},
   "outputs": [],
   "source": [
    "p = np.random.random((10,10))\n",
    "np.min(p)\n",
    "np.max(p)"
   ]
  },
  {
   "cell_type": "markdown",
   "id": "b3f98d2f",
   "metadata": {},
   "source": [
    "10. Create a random vector of size 30 and find the mean value (★☆☆)\n",
    "hint: mean\n",
    "\n"
   ]
  },
  {
   "cell_type": "code",
   "execution_count": null,
   "id": "878c006e",
   "metadata": {},
   "outputs": [],
   "source": [
    "j = np.random.random(30)\n",
    "print(j)\n",
    "np.mean(j)"
   ]
  },
  {
   "cell_type": "markdown",
   "id": "e3dfa6c4",
   "metadata": {},
   "source": [
    "11. Create a 5x5 matrix with values 1,2,3,4 just below the diagonal (★☆☆)\n",
    "hint: np.diag\n",
    "\n"
   ]
  },
  {
   "cell_type": "code",
   "execution_count": null,
   "id": "cd9d463c",
   "metadata": {},
   "outputs": [],
   "source": [
    "l = np.diag((1,2,3,4), k=-1)\n",
    "print(l)"
   ]
  },
  {
   "cell_type": "markdown",
   "id": "229d0742",
   "metadata": {},
   "source": [
    "12. Normalize a 5x5 random matrix (★☆☆)\n",
    "hint: (x -mean)/std\n",
    "\n"
   ]
  },
  {
   "cell_type": "code",
   "execution_count": 86,
   "id": "6067a7ba",
   "metadata": {},
   "outputs": [
    {
     "name": "stdout",
     "output_type": "stream",
     "text": [
      "[[28.92604551  3.92604551 35.92604551 11.92604551 17.92604551]\n",
      " [12.92604551 33.92604551  2.92604551 29.92604551  7.92604551]\n",
      " [15.92604551 17.92604551 36.92604551 -0.07395449 32.92604551]\n",
      " [10.92604551 24.92604551 23.92604551 25.92604551 18.92604551]\n",
      " [20.92604551 14.92604551 16.92604551 13.92604551 12.92604551]]\n"
     ]
    }
   ],
   "source": [
    "er = np.random.randint(1,40, (5,5))\n",
    "normalize = er - np.mean(er)/np.std(er)\n",
    "print(normalize)"
   ]
  },
  {
   "cell_type": "markdown",
   "id": "ae6656c8",
   "metadata": {},
   "source": [
    "\n",
    "13. How to find common values between two arrays? (★☆☆)\n",
    "hint: np.intersect1d\n",
    "\n"
   ]
  },
  {
   "cell_type": "code",
   "execution_count": 100,
   "id": "71dbe3be",
   "metadata": {},
   "outputs": [
    {
     "name": "stdout",
     "output_type": "stream",
     "text": [
      "[1 2 3 4 5 6 8 9]\n"
     ]
    }
   ],
   "source": [
    "u = np.random.randint(1,10, (4,4))\n",
    "ou = np.random.randint(1,10, (4,4))\n",
    "gro = np.intersect1d(u,ou)\n",
    "print(gro)"
   ]
  },
  {
   "cell_type": "markdown",
   "id": "4e875a09",
   "metadata": {},
   "source": [
    "14. Create a random vector of size 10 and sort it (★★☆)\n",
    "hint: sort\n",
    "\n"
   ]
  },
  {
   "cell_type": "code",
   "execution_count": 112,
   "id": "90dcd8f0",
   "metadata": {},
   "outputs": [
    {
     "name": "stdout",
     "output_type": "stream",
     "text": [
      "[ 1  1  7 10  6  5  9  9  2  2]\n"
     ]
    },
    {
     "data": {
      "text/plain": [
       "array([ 1,  1,  2,  2,  5,  6,  7,  9,  9, 10])"
      ]
     },
     "execution_count": 112,
     "metadata": {},
     "output_type": "execute_result"
    }
   ],
   "source": [
    "qw = np.random.randint(1,11, (10))\n",
    "print(qw)\n",
    "np.sort(qw)"
   ]
  },
  {
   "cell_type": "markdown",
   "id": "ce4495ee",
   "metadata": {},
   "source": [
    "15. Create random vector of size 10 and replace the maximum value by 0 (★★☆)\n",
    "hint: argmax\n",
    "\n"
   ]
  },
  {
   "cell_type": "code",
   "execution_count": 121,
   "id": "b0b9fead",
   "metadata": {},
   "outputs": [
    {
     "name": "stdout",
     "output_type": "stream",
     "text": [
      "[ 9  1  0  4  1  2  7  7 10  3]\n"
     ]
    }
   ],
   "source": [
    "kj = np.random.randint(1,11, (10))\n",
    "yu = np.argmax(kj)\n",
    "kj[yu] = 0\n",
    "print(kj)"
   ]
  },
  {
   "cell_type": "markdown",
   "id": "80af3b02",
   "metadata": {},
   "source": [
    "16. Subtract the mean of each row of a matrix (★★☆)\n",
    "hint: mean(axis=,keepdims=)\n",
    "\n"
   ]
  },
  {
   "cell_type": "code",
   "execution_count": 124,
   "id": "d04dcf53",
   "metadata": {},
   "outputs": [
    {
     "name": "stdout",
     "output_type": "stream",
     "text": [
      "[[ 1.5 -0.5 -4.5  1.5  1.5 -0.5 -1.5 -1.5  2.5  1.5]\n",
      " [-2.4 -4.4  4.6 -3.4  1.6  2.6 -0.4 -1.4  4.6 -1.4]\n",
      " [-2.7 -2.7  3.3  3.3 -3.7  3.3  2.3  1.3 -1.7 -2.7]\n",
      " [ 2.6  2.6 -0.4 -0.4 -1.4 -4.4 -5.4  0.6  2.6  3.6]\n",
      " [ 1.3 -1.7  4.3 -2.7  4.3  3.3 -1.7 -2.7 -1.7 -2.7]\n",
      " [ 3.7 -2.3  2.7 -2.3 -3.3  3.7 -2.3 -3.3  0.7  2.7]\n",
      " [ 0.8  1.8 -0.2  0.8 -2.2  1.8  1.8 -2.2  0.8 -3.2]\n",
      " [ 3.3 -1.7  1.3 -3.7  4.3  3.3 -2.7  3.3 -2.7 -4.7]\n",
      " [ 0.8 -2.2  2.8 -4.2  2.8  3.8 -1.2 -0.2  2.8 -5.2]\n",
      " [-0.6  2.4  1.4  0.4 -2.6 -4.6  2.4  2.4  0.4 -1.6]]\n"
     ]
    }
   ],
   "source": [
    "start = np.random.randint(1,11, (10,10))\n",
    "mean = start -start.mean(axis=1, keepdims = True)\n",
    "print(mean)"
   ]
  },
  {
   "cell_type": "markdown",
   "id": "bdde4fe7",
   "metadata": {},
   "source": [
    "17. How to get the n largest values of an array (★★★)\n",
    "Z = np.arange(10000) np.random.shuffle(Z) n = 5 hint: np.argsort | np.argpartition"
   ]
  },
  {
   "cell_type": "code",
   "execution_count": null,
   "id": "eafec070",
   "metadata": {},
   "outputs": [],
   "source": []
  },
  {
   "cell_type": "markdown",
   "id": "793ebedd",
   "metadata": {},
   "source": [
    "18. Create a random 5*3 matrix and replace items that are larger than 4 by their squares ( Example: 6 --> 36)\n",
    "hint: np.where"
   ]
  },
  {
   "cell_type": "code",
   "execution_count": null,
   "id": "6d4be066",
   "metadata": {},
   "outputs": [],
   "source": []
  }
 ],
 "metadata": {
  "kernelspec": {
   "display_name": "Python 3 (ipykernel)",
   "language": "python",
   "name": "python3"
  },
  "language_info": {
   "codemirror_mode": {
    "name": "ipython",
    "version": 3
   },
   "file_extension": ".py",
   "mimetype": "text/x-python",
   "name": "python",
   "nbconvert_exporter": "python",
   "pygments_lexer": "ipython3",
   "version": "3.9.13"
  }
 },
 "nbformat": 4,
 "nbformat_minor": 5
}
