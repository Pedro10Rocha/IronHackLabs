{
 "cells": [
  {
   "cell_type": "markdown",
   "id": "94c4d57a",
   "metadata": {},
   "source": [
    "numpy exercises\n",
    "This is a collection of exercises that have been collected in the numpy mailing list, on stack overflow and in the numpy documentation. The goal of this collection is to offer a quick reference for both old and new users but also to provide a set of exercises for those who teach.\n",
    "\n",
    "If you find an error or think you've a better way to solve some of them, feel free to open an issue at https://github.com/rougier/numpy-100. File automatically generated. See the documentation to update questions/answers/hints programmatically.\n",
    "\n",
    "1. Import the numpy package under the name np (★☆☆)\n",
    "hint: import … as\n",
    "\n"
   ]
  },
  {
   "cell_type": "code",
   "execution_count": null,
   "id": "190323a4",
   "metadata": {},
   "outputs": [],
   "source": [
    "import numpy as np"
   ]
  },
  {
   "cell_type": "markdown",
   "id": "5594ce4e",
   "metadata": {},
   "source": [
    "2. Create a null vector of size 10 (★☆☆)\n",
    "hint: np.zeros\n",
    "\n"
   ]
  },
  {
   "cell_type": "code",
   "execution_count": null,
   "id": "1f9857d2",
   "metadata": {},
   "outputs": [],
   "source": [
    "np.zeros(10)"
   ]
  },
  {
   "cell_type": "markdown",
   "id": "7ad9d4f5",
   "metadata": {},
   "source": [
    "3. Create a null vector of size 10 but the fifth value which is 1 (★☆☆)\n",
    "hint: array[4]\n",
    "\n"
   ]
  },
  {
   "cell_type": "code",
   "execution_count": null,
   "id": "4fcaec29",
   "metadata": {},
   "outputs": [],
   "source": [
    "x = np.zeros(10)\n",
    "x[5] = 1\n",
    "print(x)"
   ]
  },
  {
   "cell_type": "markdown",
   "id": "b9a2d027",
   "metadata": {},
   "source": [
    "4. Create a vector with values ranging from 10 to 49 (★☆☆)\n",
    "hint: arange\n",
    "\n"
   ]
  },
  {
   "cell_type": "code",
   "execution_count": null,
   "id": "956c2f1b",
   "metadata": {},
   "outputs": [],
   "source": [
    "np.arange(10, 50)"
   ]
  },
  {
   "cell_type": "markdown",
   "id": "2a846f6a",
   "metadata": {},
   "source": [
    "5. Create a 3x3 matrix with values ranging from 0 to 8 (★☆☆)\n",
    "hint: reshape\n",
    "\n"
   ]
  },
  {
   "cell_type": "code",
   "execution_count": null,
   "id": "2fb681ba",
   "metadata": {},
   "outputs": [],
   "source": [
    "y = np.arange(0,9).reshape((3,3))\n",
    "print(y)"
   ]
  },
  {
   "cell_type": "markdown",
   "id": "2bafa27c",
   "metadata": {},
   "source": [
    "6. Find indices of non-zero elements from [1,2,0,0,4,0] (★☆☆)\n",
    "hint: np.nonzero\n",
    "\n"
   ]
  },
  {
   "cell_type": "code",
   "execution_count": null,
   "id": "34c0f7b6",
   "metadata": {},
   "outputs": [],
   "source": [
    "z = np.array([1,2,0,0,4,0])\n",
    "np.nonzero(z)"
   ]
  },
  {
   "cell_type": "markdown",
   "id": "73ff55aa",
   "metadata": {},
   "source": [
    "7. Create a 3x3 identity matrix (★☆☆)\n",
    "hint: np.eye\n",
    "\n"
   ]
  },
  {
   "cell_type": "code",
   "execution_count": null,
   "id": "9ea31739",
   "metadata": {},
   "outputs": [],
   "source": [
    "q = np.eye(3,3,0)\n",
    "print(q)"
   ]
  },
  {
   "cell_type": "markdown",
   "id": "493cebf7",
   "metadata": {},
   "source": [
    "8. Create a 3x3x3 array with random values (★☆☆)\n",
    "hint: np.random.random\n",
    "\n"
   ]
  },
  {
   "cell_type": "code",
   "execution_count": null,
   "id": "50073a1a",
   "metadata": {},
   "outputs": [],
   "source": [
    "d = np.random.random((3,3,3))\n",
    "print(d)"
   ]
  },
  {
   "cell_type": "markdown",
   "id": "9329c9bd",
   "metadata": {},
   "source": [
    "9. Create a 10x10 array with random values and find the minimum and maximum values (★☆☆)\n",
    "hint: min, max\n",
    "\n"
   ]
  },
  {
   "cell_type": "code",
   "execution_count": null,
   "id": "04af1d62",
   "metadata": {},
   "outputs": [],
   "source": [
    "p = np.random.random((10,10))\n",
    "np.min(p)\n",
    "np.max(p)"
   ]
  },
  {
   "cell_type": "markdown",
   "id": "2e032853",
   "metadata": {},
   "source": [
    "10. Create a random vector of size 30 and find the mean value (★☆☆)\n",
    "hint: mean\n",
    "\n"
   ]
  },
  {
   "cell_type": "code",
   "execution_count": null,
   "id": "ae4833b1",
   "metadata": {},
   "outputs": [],
   "source": [
    "j = np.random.random(30)\n",
    "print(j)\n",
    "np.mean(j)"
   ]
  },
  {
   "cell_type": "markdown",
   "id": "868571c3",
   "metadata": {},
   "source": [
    "11. Create a 5x5 matrix with values 1,2,3,4 just below the diagonal (★☆☆)\n",
    "hint: np.diag\n",
    "\n"
   ]
  },
  {
   "cell_type": "code",
   "execution_count": null,
   "id": "f7c79bf0",
   "metadata": {},
   "outputs": [],
   "source": [
    "l = np.diag((1,2,3,4), k=-1)\n",
    "print(l)"
   ]
  },
  {
   "cell_type": "markdown",
   "id": "d6d00b33",
   "metadata": {},
   "source": [
    "12. Normalize a 5x5 random matrix (★☆☆)\n",
    "hint: (x -mean)/std\n",
    "\n"
   ]
  },
  {
   "cell_type": "code",
   "execution_count": 86,
   "id": "c654e795",
   "metadata": {},
   "outputs": [
    {
     "name": "stdout",
     "output_type": "stream",
     "text": [
      "[[28.92604551  3.92604551 35.92604551 11.92604551 17.92604551]\n",
      " [12.92604551 33.92604551  2.92604551 29.92604551  7.92604551]\n",
      " [15.92604551 17.92604551 36.92604551 -0.07395449 32.92604551]\n",
      " [10.92604551 24.92604551 23.92604551 25.92604551 18.92604551]\n",
      " [20.92604551 14.92604551 16.92604551 13.92604551 12.92604551]]\n"
     ]
    }
   ],
   "source": [
    "er = np.random.randint(1,40, (5,5))\n",
    "normalize = er - np.mean(er)/np.std(er)\n",
    "print(normalize)"
   ]
  },
  {
   "cell_type": "markdown",
   "id": "1bb8a5e8",
   "metadata": {},
   "source": [
    "\n",
    "13. How to find common values between two arrays? (★☆☆)\n",
    "hint: np.intersect1d\n",
    "\n"
   ]
  },
  {
   "cell_type": "code",
   "execution_count": 100,
   "id": "24d33d99",
   "metadata": {},
   "outputs": [
    {
     "name": "stdout",
     "output_type": "stream",
     "text": [
      "[1 2 3 4 5 6 8 9]\n"
     ]
    }
   ],
   "source": [
    "u = np.random.randint(1,10, (4,4))\n",
    "ou = np.random.randint(1,10, (4,4))\n",
    "gro = np.intersect1d(u,ou)\n",
    "print(gro)"
   ]
  },
  {
   "cell_type": "markdown",
   "id": "9dbec72b",
   "metadata": {},
   "source": [
    "14. Create a random vector of size 10 and sort it (★★☆)\n",
    "hint: sort\n",
    "\n"
   ]
  },
  {
   "cell_type": "code",
   "execution_count": 112,
   "id": "1d8bbd08",
   "metadata": {},
   "outputs": [
    {
     "name": "stdout",
     "output_type": "stream",
     "text": [
      "[ 1  1  7 10  6  5  9  9  2  2]\n"
     ]
    },
    {
     "data": {
      "text/plain": [
       "array([ 1,  1,  2,  2,  5,  6,  7,  9,  9, 10])"
      ]
     },
     "execution_count": 112,
     "metadata": {},
     "output_type": "execute_result"
    }
   ],
   "source": [
    "qw = np.random.randint(1,11, (10))\n",
    "print(qw)\n",
    "np.sort(qw)"
   ]
  },
  {
   "cell_type": "markdown",
   "id": "c08fa511",
   "metadata": {},
   "source": [
    "15. Create random vector of size 10 and replace the maximum value by 0 (★★☆)\n",
    "hint: argmax\n",
    "\n"
   ]
  },
  {
   "cell_type": "code",
   "execution_count": 121,
   "id": "6b67561d",
   "metadata": {},
   "outputs": [
    {
     "name": "stdout",
     "output_type": "stream",
     "text": [
      "[ 9  1  0  4  1  2  7  7 10  3]\n"
     ]
    }
   ],
   "source": [
    "kj = np.random.randint(1,11, (10))\n",
    "yu = np.argmax(kj)\n",
    "kj[yu] = 0\n",
    "print(kj)"
   ]
  },
  {
   "cell_type": "markdown",
   "id": "6561180e",
   "metadata": {},
   "source": [
    "16. Subtract the mean of each row of a matrix (★★☆)\n",
    "hint: mean(axis=,keepdims=)\n",
    "\n"
   ]
  },
  {
   "cell_type": "code",
   "execution_count": 122,
   "id": "de5438a1",
   "metadata": {},
   "outputs": [],
   "source": [
    "start = np.random.randint(1,11, (10,10))\n",
    "for i in start:\n",
    "    np.mean(start, axis=)"
   ]
  },
  {
   "cell_type": "markdown",
   "id": "8af59f95",
   "metadata": {},
   "source": [
    "17. How to get the n largest values of an array (★★★)\n",
    "Z = np.arange(10000) np.random.shuffle(Z) n = 5 hint: np.argsort | np.argpartition\n",
    "\n",
    "18. Create a random 5*3 matrix and replace items that are larger than 4 by their squares ( Example: 6 --> 36)\n",
    "hint: np.where"
   ]
  },
  {
   "cell_type": "code",
   "execution_count": null,
   "id": "4a10a69d",
   "metadata": {},
   "outputs": [],
   "source": []
  },
  {
   "cell_type": "code",
   "execution_count": null,
   "id": "e5fa87c5",
   "metadata": {},
   "outputs": [],
   "source": []
  },
  {
   "cell_type": "code",
   "execution_count": null,
   "id": "14c5c15f",
   "metadata": {},
   "outputs": [],
   "source": []
  }
 ],
 "metadata": {
  "kernelspec": {
   "display_name": "Python 3 (ipykernel)",
   "language": "python",
   "name": "python3"
  },
  "language_info": {
   "codemirror_mode": {
    "name": "ipython",
    "version": 3
   },
   "file_extension": ".py",
   "mimetype": "text/x-python",
   "name": "python",
   "nbconvert_exporter": "python",
   "pygments_lexer": "ipython3",
   "version": "3.9.13"
  }
 },
 "nbformat": 4,
 "nbformat_minor": 5
}
