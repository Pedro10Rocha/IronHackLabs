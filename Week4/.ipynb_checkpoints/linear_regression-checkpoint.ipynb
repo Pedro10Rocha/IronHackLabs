{
 "cells": [
  {
   "cell_type": "code",
   "execution_count": null,
   "id": "529d1840",
   "metadata": {},
   "outputs": [],
   "source": [
    "import numpy as np\n",
    "import pandas as pd\n",
    "import matplotlib.pyplot as plt\n",
    "%matplotlib inline\n",
    "import seaborn as sns\n",
    "from sklearn.preprocessing import PowerTransformer\n",
    "from sklearn.compose import ColumnTransformer\n",
    "from sklearn.linear_model import LinearRegression\n",
    "from sklearn.model_selection import train_test_split\n",
    "import statsmodels.api as sm\n",
    "from sklearn.metrics import r2_score\n",
    "from sklearn.metrics import mean_squared_error as mse\n",
    "from sklearn.metrics import mean_absolute_error as mae\n",
    "df = pd.read_csv('Data_Marketing_Customer_Analysis_Round3.csv')\n",
    "df = pd.DataFrame(df)"
   ]
  },
  {
   "cell_type": "code",
   "execution_count": 91,
   "id": "b8ddbe7f",
   "metadata": {},
   "outputs": [
    {
     "name": "stderr",
     "output_type": "stream",
     "text": [
      "C:\\Users\\pedro\\AppData\\Local\\Temp\\ipykernel_12868\\3402684876.py:9: DeprecationWarning: `np.object` is a deprecated alias for the builtin `object`. To silence this warning, use `object` by itself. Doing this will not modify any behavior and is safe. \n",
      "Deprecated in NumPy 1.20; for more details and guidance: https://numpy.org/devdocs/release/1.20.0-notes.html#deprecations\n",
      "  categoricalX = X.select_dtypes(np.object)\n"
     ]
    }
   ],
   "source": [
    "TT_RATIO = 0.3\n",
    "RAND_STATE = 40\n",
    "X = df.drop('customer_lifetime_value', axis=1)\n",
    "Y = df.customer_lifetime_value\n",
    "X_train, X_test, Y_train, Y_test = train_test_split(x, y, test_size=TT_RATIO, random_state=RAND_STATE)\n",
    "X_train = pd.DataFrame(X_train)\n",
    "X_test = pd.DataFrame(X_test)\n",
    "numericalX = X.select_dtypes(np.number)\n",
    "categoricalX = X.select_dtypes(np.object)"
   ]
  },
  {
   "cell_type": "code",
   "execution_count": 95,
   "id": "3c884480",
   "metadata": {},
   "outputs": [
    {
     "name": "stdout",
     "output_type": "stream",
     "text": [
      "[ColumnTransformer] ............ (1 of 1) Processing pt, total=   0.1s\n"
     ]
    }
   ],
   "source": [
    "ct = ColumnTransformer([(\"pt\", pt, list(numericalX.columns))],\n",
    "                        remainder='drop',verbose_feature_names_out=True,verbose=True).fit(X_train)\n",
    "X_train_ct = pd.DataFrame(ct.transform(X_train),columns=ct.get_feature_names_out())\n",
    "X_test_ct = pd.DataFrame(ct.transform(X_test),columns=ct.get_feature_names_out())"
   ]
  },
  {
   "cell_type": "code",
   "execution_count": 96,
   "id": "1ec33e38",
   "metadata": {},
   "outputs": [
    {
     "data": {
      "text/html": [
       "<div>\n",
       "<style scoped>\n",
       "    .dataframe tbody tr th:only-of-type {\n",
       "        vertical-align: middle;\n",
       "    }\n",
       "\n",
       "    .dataframe tbody tr th {\n",
       "        vertical-align: top;\n",
       "    }\n",
       "\n",
       "    .dataframe thead th {\n",
       "        text-align: right;\n",
       "    }\n",
       "</style>\n",
       "<table border=\"1\" class=\"dataframe\">\n",
       "  <thead>\n",
       "    <tr style=\"text-align: right;\">\n",
       "      <th></th>\n",
       "      <th>pt__income</th>\n",
       "      <th>pt__monthly_premium_auto</th>\n",
       "      <th>pt__months_since_last_claim</th>\n",
       "      <th>pt__months_since_policy_inception</th>\n",
       "      <th>pt__number_of_open_complaints</th>\n",
       "      <th>pt__number_of_policies</th>\n",
       "      <th>pt__total_claim_amount</th>\n",
       "    </tr>\n",
       "  </thead>\n",
       "  <tbody>\n",
       "    <tr>\n",
       "      <th>0</th>\n",
       "      <td>-1.356158</td>\n",
       "      <td>-0.381873</td>\n",
       "      <td>0.150225</td>\n",
       "      <td>0.493307</td>\n",
       "      <td>1.888107</td>\n",
       "      <td>0.882125</td>\n",
       "      <td>-0.070996</td>\n",
       "    </tr>\n",
       "    <tr>\n",
       "      <th>1</th>\n",
       "      <td>0.786262</td>\n",
       "      <td>0.399984</td>\n",
       "      <td>1.335482</td>\n",
       "      <td>0.681554</td>\n",
       "      <td>-0.516421</td>\n",
       "      <td>1.134298</td>\n",
       "      <td>-2.542704</td>\n",
       "    </tr>\n",
       "    <tr>\n",
       "      <th>2</th>\n",
       "      <td>0.296556</td>\n",
       "      <td>-1.440994</td>\n",
       "      <td>-0.040921</td>\n",
       "      <td>-1.653895</td>\n",
       "      <td>2.003352</td>\n",
       "      <td>-0.061278</td>\n",
       "      <td>-0.336913</td>\n",
       "    </tr>\n",
       "    <tr>\n",
       "      <th>3</th>\n",
       "      <td>1.462037</td>\n",
       "      <td>-1.254575</td>\n",
       "      <td>0.417890</td>\n",
       "      <td>-0.286896</td>\n",
       "      <td>2.003352</td>\n",
       "      <td>1.577131</td>\n",
       "      <td>-0.295306</td>\n",
       "    </tr>\n",
       "    <tr>\n",
       "      <th>4</th>\n",
       "      <td>0.858966</td>\n",
       "      <td>1.216644</td>\n",
       "      <td>1.603955</td>\n",
       "      <td>0.099597</td>\n",
       "      <td>-0.516421</td>\n",
       "      <td>-1.146658</td>\n",
       "      <td>-0.151271</td>\n",
       "    </tr>\n",
       "    <tr>\n",
       "      <th>...</th>\n",
       "      <td>...</td>\n",
       "      <td>...</td>\n",
       "      <td>...</td>\n",
       "      <td>...</td>\n",
       "      <td>...</td>\n",
       "      <td>...</td>\n",
       "      <td>...</td>\n",
       "    </tr>\n",
       "    <tr>\n",
       "      <th>3202</th>\n",
       "      <td>1.492578</td>\n",
       "      <td>-0.633343</td>\n",
       "      <td>0.746837</td>\n",
       "      <td>-2.000985</td>\n",
       "      <td>1.998886</td>\n",
       "      <td>-1.146658</td>\n",
       "      <td>-1.745876</td>\n",
       "    </tr>\n",
       "    <tr>\n",
       "      <th>3203</th>\n",
       "      <td>-0.718567</td>\n",
       "      <td>-0.213581</td>\n",
       "      <td>0.241767</td>\n",
       "      <td>-0.667832</td>\n",
       "      <td>1.888107</td>\n",
       "      <td>1.670156</td>\n",
       "      <td>-0.015174</td>\n",
       "    </tr>\n",
       "    <tr>\n",
       "      <th>3204</th>\n",
       "      <td>-0.336876</td>\n",
       "      <td>1.127574</td>\n",
       "      <td>1.195427</td>\n",
       "      <td>1.642058</td>\n",
       "      <td>-0.516421</td>\n",
       "      <td>0.517797</td>\n",
       "      <td>0.640694</td>\n",
       "    </tr>\n",
       "    <tr>\n",
       "      <th>3205</th>\n",
       "      <td>-0.455039</td>\n",
       "      <td>1.411875</td>\n",
       "      <td>0.241767</td>\n",
       "      <td>0.167012</td>\n",
       "      <td>-0.516421</td>\n",
       "      <td>-1.146658</td>\n",
       "      <td>0.885733</td>\n",
       "    </tr>\n",
       "    <tr>\n",
       "      <th>3206</th>\n",
       "      <td>1.122373</td>\n",
       "      <td>-0.921576</td>\n",
       "      <td>0.241767</td>\n",
       "      <td>0.712442</td>\n",
       "      <td>1.998886</td>\n",
       "      <td>1.463216</td>\n",
       "      <td>-0.475382</td>\n",
       "    </tr>\n",
       "  </tbody>\n",
       "</table>\n",
       "<p>3207 rows × 7 columns</p>\n",
       "</div>"
      ],
      "text/plain": [
       "      pt__income  pt__monthly_premium_auto  pt__months_since_last_claim  \\\n",
       "0      -1.356158                 -0.381873                     0.150225   \n",
       "1       0.786262                  0.399984                     1.335482   \n",
       "2       0.296556                 -1.440994                    -0.040921   \n",
       "3       1.462037                 -1.254575                     0.417890   \n",
       "4       0.858966                  1.216644                     1.603955   \n",
       "...          ...                       ...                          ...   \n",
       "3202    1.492578                 -0.633343                     0.746837   \n",
       "3203   -0.718567                 -0.213581                     0.241767   \n",
       "3204   -0.336876                  1.127574                     1.195427   \n",
       "3205   -0.455039                  1.411875                     0.241767   \n",
       "3206    1.122373                 -0.921576                     0.241767   \n",
       "\n",
       "      pt__months_since_policy_inception  pt__number_of_open_complaints  \\\n",
       "0                              0.493307                       1.888107   \n",
       "1                              0.681554                      -0.516421   \n",
       "2                             -1.653895                       2.003352   \n",
       "3                             -0.286896                       2.003352   \n",
       "4                              0.099597                      -0.516421   \n",
       "...                                 ...                            ...   \n",
       "3202                          -2.000985                       1.998886   \n",
       "3203                          -0.667832                       1.888107   \n",
       "3204                           1.642058                      -0.516421   \n",
       "3205                           0.167012                      -0.516421   \n",
       "3206                           0.712442                       1.998886   \n",
       "\n",
       "      pt__number_of_policies  pt__total_claim_amount  \n",
       "0                   0.882125               -0.070996  \n",
       "1                   1.134298               -2.542704  \n",
       "2                  -0.061278               -0.336913  \n",
       "3                   1.577131               -0.295306  \n",
       "4                  -1.146658               -0.151271  \n",
       "...                      ...                     ...  \n",
       "3202               -1.146658               -1.745876  \n",
       "3203                1.670156               -0.015174  \n",
       "3204                0.517797                0.640694  \n",
       "3205               -1.146658                0.885733  \n",
       "3206                1.463216               -0.475382  \n",
       "\n",
       "[3207 rows x 7 columns]"
      ]
     },
     "execution_count": 96,
     "metadata": {},
     "output_type": "execute_result"
    }
   ],
   "source": [
    "X_train = pd.DataFrame(X_train_ct)\n",
    "X_test_ct"
   ]
  },
  {
   "cell_type": "code",
   "execution_count": 97,
   "id": "a1c5d877",
   "metadata": {},
   "outputs": [
    {
     "name": "stdout",
     "output_type": "stream",
     "text": [
      "                               OLS Regression Results                              \n",
      "===================================================================================\n",
      "Dep. Variable:     customer_lifetime_value   R-squared:                       0.176\n",
      "Model:                                 OLS   Adj. R-squared:                  0.175\n",
      "Method:                      Least Squares   F-statistic:                     227.6\n",
      "Date:                     Tue, 31 Jan 2023   Prob (F-statistic):          7.51e-308\n",
      "Time:                             17:47:29   Log-Likelihood:                -75931.\n",
      "No. Observations:                     7482   AIC:                         1.519e+05\n",
      "Df Residuals:                         7474   BIC:                         1.519e+05\n",
      "Df Model:                                7                                         \n",
      "Covariance Type:                 nonrobust                                         \n",
      "==============================================================================\n",
      "                 coef    std err          t      P>|t|      [0.025      0.975]\n",
      "------------------------------------------------------------------------------\n",
      "const       7983.9392     71.518    111.636      0.000    7843.744    8124.134\n",
      "x1           104.3929     72.633      1.437      0.151     -37.988     246.774\n",
      "x2          2478.5571     82.732     29.959      0.000    2316.378    2640.736\n",
      "x3            28.0411     71.600      0.392      0.695    -112.314     168.396\n",
      "x4            91.1584     71.611      1.273      0.203     -49.220     231.536\n",
      "x5           -73.9996     71.579     -1.034      0.301    -214.314      66.315\n",
      "x6          1319.0418     71.550     18.435      0.000    1178.783    1459.301\n",
      "x7           140.4931     83.671      1.679      0.093     -23.525     304.511\n",
      "==============================================================================\n",
      "Omnibus:                     5007.057   Durbin-Watson:                   1.977\n",
      "Prob(Omnibus):                  0.000   Jarque-Bera (JB):            65941.584\n",
      "Skew:                           3.105   Prob(JB):                         0.00\n",
      "Kurtosis:                      16.151   Cond. No.                         1.78\n",
      "==============================================================================\n",
      "\n",
      "Notes:\n",
      "[1] Standard Errors assume that the covariance matrix of the errors is correctly specified.\n"
     ]
    }
   ],
   "source": [
    "X_train_const_ct = sm.add_constant(X_train_ct.to_numpy()) # adding a constant\n",
    "\n",
    "model = sm.OLS(y_train, X_train_const_ct).fit()\n",
    "predictions_train = model.predict(X_train_const_ct)\n",
    "\n",
    "X_test_const_ct = sm.add_constant(X_test_ct) # adding a constant\n",
    "predictions_test = model.predict(X_test_const_ct)\n",
    "print_model = model.summary()\n",
    "print(print_model)"
   ]
  },
  {
   "cell_type": "code",
   "execution_count": 98,
   "id": "013f8f48",
   "metadata": {},
   "outputs": [
    {
     "data": {
      "text/plain": [
       "LinearRegression()"
      ]
     },
     "execution_count": 98,
     "metadata": {},
     "output_type": "execute_result"
    }
   ],
   "source": [
    "model=LinearRegression()    # model\n",
    "model.fit(X_train_ct, y_train)   # model train"
   ]
  },
  {
   "cell_type": "code",
   "execution_count": 99,
   "id": "cbafa169",
   "metadata": {},
   "outputs": [
    {
     "data": {
      "text/plain": [
       "array([ 104.39291199, 2478.557118  ,   28.04108452,   91.15838224,\n",
       "        -73.99964809, 1319.04184747,  140.49314363])"
      ]
     },
     "execution_count": 99,
     "metadata": {},
     "output_type": "execute_result"
    }
   ],
   "source": [
    "model.coef_"
   ]
  },
  {
   "cell_type": "code",
   "execution_count": 100,
   "id": "396f0c4b",
   "metadata": {},
   "outputs": [
    {
     "data": {
      "text/plain": [
       "7983.939187382895"
      ]
     },
     "execution_count": 100,
     "metadata": {},
     "output_type": "execute_result"
    }
   ],
   "source": [
    "model.intercept_"
   ]
  },
  {
   "cell_type": "code",
   "execution_count": 101,
   "id": "f02d0363",
   "metadata": {},
   "outputs": [],
   "source": [
    "y_pred = pd.DataFrame(model.predict(X_test_ct),columns = ['customer_lifetime_value'] )      # model prediction\n",
    "y_pred_train =  pd.DataFrame(model.predict(X_train_ct),columns = ['customer_lifetime_value'])"
   ]
  }
 ],
 "metadata": {
  "kernelspec": {
   "display_name": "Python 3 (ipykernel)",
   "language": "python",
   "name": "python3"
  },
  "language_info": {
   "codemirror_mode": {
    "name": "ipython",
    "version": 3
   },
   "file_extension": ".py",
   "mimetype": "text/x-python",
   "name": "python",
   "nbconvert_exporter": "python",
   "pygments_lexer": "ipython3",
   "version": "3.9.13"
  }
 },
 "nbformat": 4,
 "nbformat_minor": 5
}
