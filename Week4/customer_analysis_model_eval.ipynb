{
 "cells": [
  {
   "cell_type": "markdown",
   "id": "69baa2b1",
   "metadata": {},
   "source": [
    "# Car Insurance Claim Linear Regression Model\n",
    "\n"
   ]
  },
  {
   "cell_type": "markdown",
   "source": [],
   "metadata": {
    "collapsed": false
   }
  },
  {
   "cell_type": "code",
   "execution_count": 1,
   "outputs": [],
   "source": [
    "import numpy as np\n",
    "import pandas as pd\n",
    "\n",
    "import matplotlib.pyplot as plt\n",
    "%matplotlib inline\n",
    "import seaborn as sns\n",
    "\n",
    "pd.options.display.max_rows = 100\n",
    "import warnings\n",
    "\n",
    "from sklearn.preprocessing import StandardScaler\n",
    "from sklearn.linear_model import LinearRegression\n",
    "from sklearn.model_selection import train_test_split\n",
    "from sklearn.metrics import r2_score\n",
    "\n",
    "import statsmodels.api as sm\n",
    "\n",
    "warnings.simplefilter(action='ignore', category=FutureWarning)"
   ],
   "metadata": {
    "collapsed": false
   }
  },
  {
   "cell_type": "code",
   "execution_count": 2,
   "outputs": [],
   "source": [
    "def fill_whitespace_with_underscore(df):\n",
    "    \"\"\" returns a df with whitespace replaced with underscores\"\"\"\n",
    "    if isinstance(df,pd.core.frame.DataFrame):\n",
    "        df.columns = df.columns.str.replace(' ','_')\n",
    "        df.columns = df.columns.str.replace('-','_')\n",
    "    else:\n",
    "        raise TypeError\n",
    "    return df"
   ],
   "metadata": {
    "collapsed": false
   }
  },
  {
   "cell_type": "code",
   "execution_count": 3,
   "outputs": [],
   "source": [
    "def Remove_Outlier_Indices(df):\n",
    "    \"\"\" returns a df of boolean values to used to index a trimmed table in the 1.5*IQR range\"\"\"\n",
    "    if isinstance(df,pd.core.frame.DataFrame):\n",
    "        Q1 = df.quantile(0.15)\n",
    "        Q3 = df.quantile(0.85)\n",
    "        IQR = Q3 - Q1\n",
    "        trueList = ~((df < (Q1 - 1.5*IQR)) |(df > (Q3 + 1.5*IQR)))\n",
    "    else:\n",
    "        raise TypeError\n",
    "    return trueList"
   ],
   "metadata": {
    "collapsed": false
   }
  },
  {
   "cell_type": "code",
   "execution_count": 4,
   "id": "7167dcdc",
   "metadata": {
    "hidden": true
   },
   "outputs": [],
   "source": [
    "c2_df = pd.read_csv('Data_Marketing_Customer_Analysis_Round3.csv')"
   ]
  },
  {
   "cell_type": "code",
   "execution_count": 5,
   "outputs": [],
   "source": [
    "c2_df.drop(['Unnamed: 0','effective_to_date'],axis=1,inplace=True)"
   ],
   "metadata": {
    "collapsed": false
   }
  },
  {
   "cell_type": "code",
   "execution_count": 6,
   "id": "57257b44",
   "metadata": {
    "hidden": true
   },
   "outputs": [
    {
     "data": {
      "text/plain": "Index(['region', 'customer_lifetime_value', 'response', 'coverage',\n       'education', 'month', 'employment_status', 'gender', 'income',\n       'location_code', 'marital_status', 'monthly_premium_auto',\n       'months_since_last_claim', 'months_since_policy_inception',\n       'number_of_open_complaints', 'number_of_policies', 'policy_type',\n       'policy', 'renew_offer_type', 'sales_channel', 'total_claim_amount',\n       'vehicle_class', 'vehicle_size'],\n      dtype='object')"
     },
     "execution_count": 6,
     "metadata": {},
     "output_type": "execute_result"
    }
   ],
   "source": [
    "c2_df.columns"
   ]
  },
  {
   "cell_type": "code",
   "execution_count": 7,
   "outputs": [],
   "source": [
    "X = c2_df.drop(['total_claim_amount'], axis=1) # trimmed target var\n",
    "y = c2_df.total_claim_amount # trimmed independent var (vec)`\n",
    "\n",
    "dM_n = X.select_dtypes(exclude=object)\n",
    "dM_c = pd.get_dummies(X.select_dtypes(include=object),prefix=\"dmy\",drop_first=True)\n",
    "\n",
    "# Index List of Non-Outliers\n",
    "nonOutlierList = Remove_Outlier_Indices(dM_n)\n",
    "\n",
    "dM_c = dM_c[nonOutlierList.all(1)]\n",
    "dM_n = dM_n[nonOutlierList.all(1)]\n",
    "\n",
    "X = pd.concat([dM_n,dM_c],axis=1)\n",
    "y = y[nonOutlierList.all(1)]"
   ],
   "metadata": {
    "collapsed": false
   }
  },
  {
   "cell_type": "code",
   "execution_count": 8,
   "outputs": [
    {
     "data": {
      "text/plain": "       customer_lifetime_value  income  monthly_premium_auto  \\\n0                         4809   48029                    61   \n1                         2228   26794                    64   \n2                        14947   22139                   100   \n3                        22332   49078                    97   \n4                         9025   23675                   117   \n...                        ...     ...                   ...   \n10680                     4547   33531                   116   \n10681                     3579   28304                    91   \n10683                    19228   56544                   187   \n10685                     5259   61146                    65   \n10688                     6857   88784                   101   \n\n       months_since_last_claim  months_since_policy_inception  \\\n0                            7                             52   \n1                            3                             26   \n2                           34                             31   \n3                           10                              3   \n4                           15                             31   \n...                        ...                            ...   \n10680                       11                             15   \n10681                       10                             30   \n10683                       14                             32   \n10685                        7                             68   \n10688                       31                              1   \n\n       number_of_open_complaints  number_of_policies  dmy_east  \\\n0                              0                   9         0   \n1                              0                   1         0   \n2                              0                   2         1   \n3                              0                   2         0   \n4                              1                   7         0   \n...                          ...                 ...       ...   \n10680                          0                   1         1   \n10681                          2                   1         0   \n10683                          0                   2         0   \n10685                          0                   6         0   \n10688                          0                   3         0   \n\n       dmy_north west  dmy_west region  ...  dmy_branch  dmy_call center  \\\n0                   0                0  ...           0                0   \n1                   0                1  ...           0                1   \n2                   0                0  ...           0                1   \n3                   1                0  ...           1                0   \n4                   1                0  ...           1                0   \n...               ...              ...  ...         ...              ...   \n10680               0                0  ...           0                0   \n10681               0                1  ...           0                0   \n10683               0                0  ...           1                0   \n10685               1                0  ...           1                0   \n10688               0                1  ...           0                0   \n\n       dmy_web  dmy_luxury car  dmy_luxury suv  dmy_sports car  dmy_suv  \\\n0            0               0               0               0        0   \n1            0               0               0               0        0   \n2            0               0               0               0        1   \n3            0               0               0               0        0   \n4            0               0               0               0        0   \n...        ...             ...             ...             ...      ...   \n10680        0               0               0               0        0   \n10681        0               0               0               0        0   \n10683        0               0               1               0        0   \n10685        0               0               0               0        0   \n10688        1               0               0               0        1   \n\n       dmy_two-door car  dmy_medsize  dmy_small  \n0                     0            1          0  \n1                     0            1          0  \n2                     0            1          0  \n3                     0            1          0  \n4                     0            1          0  \n...                 ...          ...        ...  \n10680                 1            1          0  \n10681                 0            1          0  \n10683                 0            1          0  \n10685                 0            1          0  \n10688                 0            1          0  \n\n[9655 rows x 50 columns]",
      "text/html": "<div>\n<style scoped>\n    .dataframe tbody tr th:only-of-type {\n        vertical-align: middle;\n    }\n\n    .dataframe tbody tr th {\n        vertical-align: top;\n    }\n\n    .dataframe thead th {\n        text-align: right;\n    }\n</style>\n<table border=\"1\" class=\"dataframe\">\n  <thead>\n    <tr style=\"text-align: right;\">\n      <th></th>\n      <th>customer_lifetime_value</th>\n      <th>income</th>\n      <th>monthly_premium_auto</th>\n      <th>months_since_last_claim</th>\n      <th>months_since_policy_inception</th>\n      <th>number_of_open_complaints</th>\n      <th>number_of_policies</th>\n      <th>dmy_east</th>\n      <th>dmy_north west</th>\n      <th>dmy_west region</th>\n      <th>...</th>\n      <th>dmy_branch</th>\n      <th>dmy_call center</th>\n      <th>dmy_web</th>\n      <th>dmy_luxury car</th>\n      <th>dmy_luxury suv</th>\n      <th>dmy_sports car</th>\n      <th>dmy_suv</th>\n      <th>dmy_two-door car</th>\n      <th>dmy_medsize</th>\n      <th>dmy_small</th>\n    </tr>\n  </thead>\n  <tbody>\n    <tr>\n      <th>0</th>\n      <td>4809</td>\n      <td>48029</td>\n      <td>61</td>\n      <td>7</td>\n      <td>52</td>\n      <td>0</td>\n      <td>9</td>\n      <td>0</td>\n      <td>0</td>\n      <td>0</td>\n      <td>...</td>\n      <td>0</td>\n      <td>0</td>\n      <td>0</td>\n      <td>0</td>\n      <td>0</td>\n      <td>0</td>\n      <td>0</td>\n      <td>0</td>\n      <td>1</td>\n      <td>0</td>\n    </tr>\n    <tr>\n      <th>1</th>\n      <td>2228</td>\n      <td>26794</td>\n      <td>64</td>\n      <td>3</td>\n      <td>26</td>\n      <td>0</td>\n      <td>1</td>\n      <td>0</td>\n      <td>0</td>\n      <td>1</td>\n      <td>...</td>\n      <td>0</td>\n      <td>1</td>\n      <td>0</td>\n      <td>0</td>\n      <td>0</td>\n      <td>0</td>\n      <td>0</td>\n      <td>0</td>\n      <td>1</td>\n      <td>0</td>\n    </tr>\n    <tr>\n      <th>2</th>\n      <td>14947</td>\n      <td>22139</td>\n      <td>100</td>\n      <td>34</td>\n      <td>31</td>\n      <td>0</td>\n      <td>2</td>\n      <td>1</td>\n      <td>0</td>\n      <td>0</td>\n      <td>...</td>\n      <td>0</td>\n      <td>1</td>\n      <td>0</td>\n      <td>0</td>\n      <td>0</td>\n      <td>0</td>\n      <td>1</td>\n      <td>0</td>\n      <td>1</td>\n      <td>0</td>\n    </tr>\n    <tr>\n      <th>3</th>\n      <td>22332</td>\n      <td>49078</td>\n      <td>97</td>\n      <td>10</td>\n      <td>3</td>\n      <td>0</td>\n      <td>2</td>\n      <td>0</td>\n      <td>1</td>\n      <td>0</td>\n      <td>...</td>\n      <td>1</td>\n      <td>0</td>\n      <td>0</td>\n      <td>0</td>\n      <td>0</td>\n      <td>0</td>\n      <td>0</td>\n      <td>0</td>\n      <td>1</td>\n      <td>0</td>\n    </tr>\n    <tr>\n      <th>4</th>\n      <td>9025</td>\n      <td>23675</td>\n      <td>117</td>\n      <td>15</td>\n      <td>31</td>\n      <td>1</td>\n      <td>7</td>\n      <td>0</td>\n      <td>1</td>\n      <td>0</td>\n      <td>...</td>\n      <td>1</td>\n      <td>0</td>\n      <td>0</td>\n      <td>0</td>\n      <td>0</td>\n      <td>0</td>\n      <td>0</td>\n      <td>0</td>\n      <td>1</td>\n      <td>0</td>\n    </tr>\n    <tr>\n      <th>...</th>\n      <td>...</td>\n      <td>...</td>\n      <td>...</td>\n      <td>...</td>\n      <td>...</td>\n      <td>...</td>\n      <td>...</td>\n      <td>...</td>\n      <td>...</td>\n      <td>...</td>\n      <td>...</td>\n      <td>...</td>\n      <td>...</td>\n      <td>...</td>\n      <td>...</td>\n      <td>...</td>\n      <td>...</td>\n      <td>...</td>\n      <td>...</td>\n      <td>...</td>\n      <td>...</td>\n    </tr>\n    <tr>\n      <th>10680</th>\n      <td>4547</td>\n      <td>33531</td>\n      <td>116</td>\n      <td>11</td>\n      <td>15</td>\n      <td>0</td>\n      <td>1</td>\n      <td>1</td>\n      <td>0</td>\n      <td>0</td>\n      <td>...</td>\n      <td>0</td>\n      <td>0</td>\n      <td>0</td>\n      <td>0</td>\n      <td>0</td>\n      <td>0</td>\n      <td>0</td>\n      <td>1</td>\n      <td>1</td>\n      <td>0</td>\n    </tr>\n    <tr>\n      <th>10681</th>\n      <td>3579</td>\n      <td>28304</td>\n      <td>91</td>\n      <td>10</td>\n      <td>30</td>\n      <td>2</td>\n      <td>1</td>\n      <td>0</td>\n      <td>0</td>\n      <td>1</td>\n      <td>...</td>\n      <td>0</td>\n      <td>0</td>\n      <td>0</td>\n      <td>0</td>\n      <td>0</td>\n      <td>0</td>\n      <td>0</td>\n      <td>0</td>\n      <td>1</td>\n      <td>0</td>\n    </tr>\n    <tr>\n      <th>10683</th>\n      <td>19228</td>\n      <td>56544</td>\n      <td>187</td>\n      <td>14</td>\n      <td>32</td>\n      <td>0</td>\n      <td>2</td>\n      <td>0</td>\n      <td>0</td>\n      <td>0</td>\n      <td>...</td>\n      <td>1</td>\n      <td>0</td>\n      <td>0</td>\n      <td>0</td>\n      <td>1</td>\n      <td>0</td>\n      <td>0</td>\n      <td>0</td>\n      <td>1</td>\n      <td>0</td>\n    </tr>\n    <tr>\n      <th>10685</th>\n      <td>5259</td>\n      <td>61146</td>\n      <td>65</td>\n      <td>7</td>\n      <td>68</td>\n      <td>0</td>\n      <td>6</td>\n      <td>0</td>\n      <td>1</td>\n      <td>0</td>\n      <td>...</td>\n      <td>1</td>\n      <td>0</td>\n      <td>0</td>\n      <td>0</td>\n      <td>0</td>\n      <td>0</td>\n      <td>0</td>\n      <td>0</td>\n      <td>1</td>\n      <td>0</td>\n    </tr>\n    <tr>\n      <th>10688</th>\n      <td>6857</td>\n      <td>88784</td>\n      <td>101</td>\n      <td>31</td>\n      <td>1</td>\n      <td>0</td>\n      <td>3</td>\n      <td>0</td>\n      <td>0</td>\n      <td>1</td>\n      <td>...</td>\n      <td>0</td>\n      <td>0</td>\n      <td>1</td>\n      <td>0</td>\n      <td>0</td>\n      <td>0</td>\n      <td>1</td>\n      <td>0</td>\n      <td>1</td>\n      <td>0</td>\n    </tr>\n  </tbody>\n</table>\n<p>9655 rows × 50 columns</p>\n</div>"
     },
     "execution_count": 8,
     "metadata": {},
     "output_type": "execute_result"
    }
   ],
   "source": [
    "X"
   ],
   "metadata": {
    "collapsed": false
   }
  },
  {
   "cell_type": "code",
   "execution_count": 9,
   "id": "7f469129",
   "metadata": {},
   "outputs": [],
   "source": [
    "TEST_SIZE = .25\n",
    "RANDOM_STATE = 123 # reproduce the same results. disables randomization\n",
    "X_train, X_test, y_train, y_test = train_test_split(X, y, test_size=TEST_SIZE,random_state=RANDOM_STATE)"
   ]
  },
  {
   "cell_type": "code",
   "execution_count": 10,
   "outputs": [
    {
     "data": {
      "text/plain": "customer_lifetime_value          int64\nincome                           int64\nmonthly_premium_auto             int64\nmonths_since_last_claim          int64\nmonths_since_policy_inception    int64\nnumber_of_open_complaints        int64\nnumber_of_policies               int64\ndmy_east                         uint8\ndmy_north west                   uint8\ndmy_west region                  uint8\ndmy_yes                          uint8\ndmy_extended                     uint8\ndmy_premium                      uint8\ndmy_college                      uint8\ndmy_doctor                       uint8\ndmy_high school or below         uint8\ndmy_master                       uint8\ndmy_jan                          uint8\ndmy_employed                     uint8\ndmy_medical leave                uint8\ndmy_retired                      uint8\ndmy_unemployed                   uint8\ndmy_m                            uint8\ndmy_suburban                     uint8\ndmy_urban                        uint8\ndmy_married                      uint8\ndmy_single                       uint8\ndmy_personal auto                uint8\ndmy_special auto                 uint8\ndmy_corporate l2                 uint8\ndmy_corporate l3                 uint8\ndmy_personal l1                  uint8\ndmy_personal l2                  uint8\ndmy_personal l3                  uint8\ndmy_special l1                   uint8\ndmy_special l2                   uint8\ndmy_special l3                   uint8\ndmy_offer2                       uint8\ndmy_offer3                       uint8\ndmy_offer4                       uint8\ndmy_branch                       uint8\ndmy_call center                  uint8\ndmy_web                          uint8\ndmy_luxury car                   uint8\ndmy_luxury suv                   uint8\ndmy_sports car                   uint8\ndmy_suv                          uint8\ndmy_two-door car                 uint8\ndmy_medsize                      uint8\ndmy_small                        uint8\ndtype: object"
     },
     "execution_count": 10,
     "metadata": {},
     "output_type": "execute_result"
    }
   ],
   "source": [
    "X_train.dtypes"
   ],
   "metadata": {
    "collapsed": false
   }
  },
  {
   "cell_type": "code",
   "execution_count": 11,
   "outputs": [
    {
     "data": {
      "text/plain": "       customer_lifetime_value  income  monthly_premium_auto  \\\n5123                     10972   24164                   137   \n10260                     5746   61990                    72   \n7753                      7462   70263                    93   \n4409                      7122   64571                    89   \n479                       8879   52583                   113   \n...                        ...     ...                   ...   \n8164                      3979   47828                   112   \n8590                      8200   25381                    71   \n5777                      6832   66627                    85   \n1485                      4014   37384                    99   \n3950                      4522   13020                    61   \n\n       months_since_last_claim  months_since_policy_inception  \\\n5123                         2                             40   \n10260                       21                             47   \n7753                        30                             66   \n4409                        34                             91   \n479                         12                             59   \n...                        ...                            ...   \n8164                        11                              3   \n8590                        22                             62   \n5777                        32                             55   \n1485                         9                             17   \n3950                         8                             78   \n\n       number_of_open_complaints  number_of_policies  \n5123                           0                   5  \n10260                          0                   9  \n7753                           0                   5  \n4409                           0                   6  \n479                            0                   7  \n...                          ...                 ...  \n8164                           0                   1  \n8590                           0                   2  \n5777                           0                   8  \n1485                           0                   1  \n3950                           0                   9  \n\n[7241 rows x 7 columns]",
      "text/html": "<div>\n<style scoped>\n    .dataframe tbody tr th:only-of-type {\n        vertical-align: middle;\n    }\n\n    .dataframe tbody tr th {\n        vertical-align: top;\n    }\n\n    .dataframe thead th {\n        text-align: right;\n    }\n</style>\n<table border=\"1\" class=\"dataframe\">\n  <thead>\n    <tr style=\"text-align: right;\">\n      <th></th>\n      <th>customer_lifetime_value</th>\n      <th>income</th>\n      <th>monthly_premium_auto</th>\n      <th>months_since_last_claim</th>\n      <th>months_since_policy_inception</th>\n      <th>number_of_open_complaints</th>\n      <th>number_of_policies</th>\n    </tr>\n  </thead>\n  <tbody>\n    <tr>\n      <th>5123</th>\n      <td>10972</td>\n      <td>24164</td>\n      <td>137</td>\n      <td>2</td>\n      <td>40</td>\n      <td>0</td>\n      <td>5</td>\n    </tr>\n    <tr>\n      <th>10260</th>\n      <td>5746</td>\n      <td>61990</td>\n      <td>72</td>\n      <td>21</td>\n      <td>47</td>\n      <td>0</td>\n      <td>9</td>\n    </tr>\n    <tr>\n      <th>7753</th>\n      <td>7462</td>\n      <td>70263</td>\n      <td>93</td>\n      <td>30</td>\n      <td>66</td>\n      <td>0</td>\n      <td>5</td>\n    </tr>\n    <tr>\n      <th>4409</th>\n      <td>7122</td>\n      <td>64571</td>\n      <td>89</td>\n      <td>34</td>\n      <td>91</td>\n      <td>0</td>\n      <td>6</td>\n    </tr>\n    <tr>\n      <th>479</th>\n      <td>8879</td>\n      <td>52583</td>\n      <td>113</td>\n      <td>12</td>\n      <td>59</td>\n      <td>0</td>\n      <td>7</td>\n    </tr>\n    <tr>\n      <th>...</th>\n      <td>...</td>\n      <td>...</td>\n      <td>...</td>\n      <td>...</td>\n      <td>...</td>\n      <td>...</td>\n      <td>...</td>\n    </tr>\n    <tr>\n      <th>8164</th>\n      <td>3979</td>\n      <td>47828</td>\n      <td>112</td>\n      <td>11</td>\n      <td>3</td>\n      <td>0</td>\n      <td>1</td>\n    </tr>\n    <tr>\n      <th>8590</th>\n      <td>8200</td>\n      <td>25381</td>\n      <td>71</td>\n      <td>22</td>\n      <td>62</td>\n      <td>0</td>\n      <td>2</td>\n    </tr>\n    <tr>\n      <th>5777</th>\n      <td>6832</td>\n      <td>66627</td>\n      <td>85</td>\n      <td>32</td>\n      <td>55</td>\n      <td>0</td>\n      <td>8</td>\n    </tr>\n    <tr>\n      <th>1485</th>\n      <td>4014</td>\n      <td>37384</td>\n      <td>99</td>\n      <td>9</td>\n      <td>17</td>\n      <td>0</td>\n      <td>1</td>\n    </tr>\n    <tr>\n      <th>3950</th>\n      <td>4522</td>\n      <td>13020</td>\n      <td>61</td>\n      <td>8</td>\n      <td>78</td>\n      <td>0</td>\n      <td>9</td>\n    </tr>\n  </tbody>\n</table>\n<p>7241 rows × 7 columns</p>\n</div>"
     },
     "execution_count": 11,
     "metadata": {},
     "output_type": "execute_result"
    }
   ],
   "source": [
    "X_train[dM_n.columns]"
   ],
   "metadata": {
    "collapsed": false
   }
  },
  {
   "cell_type": "code",
   "execution_count": 12,
   "outputs": [],
   "source": [
    "transformer = StandardScaler()\n",
    "transformer.fit(X_train[dM_n.columns] )\n",
    "\n",
    "X_test[dM_n.columns] = transformer.transform(X_test[dM_n.columns])\n",
    "X_train[dM_n.columns] = transformer.transform(X_train[dM_n.columns])"
   ],
   "metadata": {
    "collapsed": false
   }
  },
  {
   "cell_type": "markdown",
   "id": "de7337d1",
   "metadata": {},
   "source": [
    "### Apply linear regression model"
   ]
  },
  {
   "cell_type": "code",
   "execution_count": 13,
   "id": "54a62598",
   "metadata": {},
   "outputs": [],
   "source": [
    "model = LinearRegression()   # model is y = SUM(slopes*Xs) + intercept\n",
    "model.fit(X_train, y_train) # compute for me the coefficients (slopes and intercept)\n",
    "y_pred       = model.predict(X_test)   # model prediction [test]\n",
    "y_pred_train = model.predict(X_train)  # model prediction [train]"
   ]
  },
  {
   "cell_type": "code",
   "execution_count": 34,
   "id": "0d5c9337",
   "metadata": {},
   "outputs": [
    {
     "data": {
      "text/plain": "[<matplotlib.lines.Line2D at 0x147db14f0>]"
     },
     "execution_count": 34,
     "metadata": {},
     "output_type": "execute_result"
    },
    {
     "data": {
      "text/plain": "<Figure size 1008x288 with 3 Axes>",
      "image/png": "[encoded data removed]"
     },
     "metadata": {
      "needs_background": "light"
     },
     "output_type": "display_data"
    }
   ],
   "source": [
    "fig, ax = plt.subplots(1,3,figsize=(14,4))\n",
    "\n",
    "# forms a line?\n",
    "ax[0].plot(y_pred, y_test, 'o', color='red')\n",
    "ax[0].set_xlabel(\"y_test\")\n",
    "ax[0].set_ylabel(\"y_pred\")\n",
    "ax[0].set_title(\"test set predictions vs. actuals\")\n",
    "\n",
    "# normal distribution?\n",
    "ax[1].hist(y_test - y_pred, color='blue')\n",
    "ax[1].set_xlabel(\"Test y-y_pred\")\n",
    "ax[1].set_title(\"test set residuals\")\n",
    "\n",
    "# constant?\n",
    "ax[2].plot(y_pred,y_test - y_pred,\"o\", color='green')\n",
    "ax[2].set_xlabel(\"predited\")\n",
    "ax[2].set_ylabel(\"residuals\")\n",
    "ax[2].set_title(\"residual homoscedasticity\")\n",
    "ax[2].plot(y_pred,np.zeros(len(y_pred)),linestyle='dashed', color='black',linewidth=2)"
   ]
  },
  {
   "cell_type": "code",
   "execution_count": 15,
   "id": "aba7ef44",
   "metadata": {},
   "outputs": [
    {
     "data": {
      "text/plain": "<AxesSubplot:xlabel='y_pred', ylabel='y_test'>"
     },
     "execution_count": 15,
     "metadata": {},
     "output_type": "execute_result"
    },
    {
     "data": {
      "text/plain": "<Figure size 432x288 with 1 Axes>",
      "image/png": "[encoded data removed]"
     },
     "metadata": {
      "needs_background": "light"
     },
     "output_type": "display_data"
    }
   ],
   "source": [
    "sns.regplot(x='y_pred',y='y_test', data=pd.DataFrame({\"y_test\": y_test, \"y_pred\": y_pred}) ,\n",
    "            scatter_kws={\"color\": \"red\"}, line_kws={\"color\": \"black\"})"
   ]
  },
  {
   "cell_type": "code",
   "execution_count": 16,
   "outputs": [
    {
     "data": {
      "text/plain": "(0.7426488809803674, 0.7372034489232444)"
     },
     "execution_count": 16,
     "metadata": {},
     "output_type": "execute_result"
    }
   ],
   "source": [
    "R2     = r2_score(y_test,y_pred)\n",
    "Adj_R2 = 1 - (1-R2)*(len(y_test)-1)/(len(y_test)-X_test.shape[1]-1)\n",
    "\n",
    "R2,Adj_R2"
   ],
   "metadata": {
    "collapsed": false
   }
  },
  {
   "cell_type": "code",
   "execution_count": 17,
   "outputs": [
    {
     "name": "stdout",
     "output_type": "stream",
     "text": [
      "                            OLS Regression Results                            \n",
      "==============================================================================\n",
      "Dep. Variable:     total_claim_amount   R-squared:                       0.758\n",
      "Model:                            OLS   Adj. R-squared:                  0.756\n",
      "Method:                 Least Squares   F-statistic:                     469.0\n",
      "Date:                Thu, 02 Feb 2023   Prob (F-statistic):               0.00\n",
      "Time:                        23:50:46   Log-Likelihood:                -45426.\n",
      "No. Observations:                7241   AIC:                         9.095e+04\n",
      "Df Residuals:                    7192   BIC:                         9.129e+04\n",
      "Df Model:                          48                                         \n",
      "Covariance Type:            nonrobust                                         \n",
      "=================================================================================================\n",
      "                                    coef    std err          t      P>|t|      [0.025      0.975]\n",
      "-------------------------------------------------------------------------------------------------\n",
      "const                           103.7792     13.679      7.587      0.000      76.964     130.594\n",
      "customer_lifetime_value          -1.8808      1.611     -1.168      0.243      -5.039       1.277\n",
      "income                           -6.8798      1.748     -3.936      0.000     -10.306      -3.454\n",
      "monthly_premium_auto            137.5352      4.198     32.764      0.000     129.306     145.764\n",
      "months_since_last_claim           3.7157      1.522      2.441      0.015       0.732       6.699\n",
      "months_since_policy_inception    -1.7472      1.532     -1.140      0.254      -4.751       1.256\n",
      "number_of_open_complaints        -3.2323      1.528     -2.116      0.034      -6.227      -0.238\n",
      "number_of_policies                3.6864      1.536      2.400      0.016       0.675       6.697\n",
      "dmy_east                          3.7073      5.945      0.624      0.533      -7.948      15.362\n",
      "dmy_north west                    0.7124      4.032      0.177      0.860      -7.192       8.617\n",
      "dmy_west region                  10.9644      3.850      2.848      0.004       3.417      18.512\n",
      "dmy_yes                         -18.0812      4.972     -3.637      0.000     -27.828      -8.334\n",
      "dmy_extended                    -12.2578      4.582     -2.675      0.007     -21.239      -3.277\n",
      "dmy_premium                      -6.9750      8.940     -0.780      0.435     -24.500      10.550\n",
      "dmy_college                      -8.3325      3.944     -2.113      0.035     -16.063      -0.602\n",
      "dmy_doctor                      -15.4063      8.391     -1.836      0.066     -31.855       1.043\n",
      "dmy_high school or below         10.2205      3.993      2.560      0.010       2.394      18.047\n",
      "dmy_master                      -10.4433      6.081     -1.717      0.086     -22.364       1.477\n",
      "dmy_jan                           2.8355      3.044      0.932      0.352      -3.131       8.802\n",
      "dmy_employed                     -1.9493      7.826     -0.249      0.803     -17.290      13.392\n",
      "dmy_medical leave                 9.3555      9.919      0.943      0.346     -10.089      28.800\n",
      "dmy_retired                       0.0896     11.639      0.008      0.994     -22.726      22.905\n",
      "dmy_unemployed                   82.1672      8.264      9.943      0.000      65.967      98.367\n",
      "dmy_m                            11.1653      3.067      3.641      0.000       5.153      17.177\n",
      "dmy_suburban                    366.7171      4.383     83.662      0.000     358.124     375.310\n",
      "dmy_urban                       215.7159      4.981     43.310      0.000     205.952     225.480\n",
      "dmy_married                      -6.2472      4.557     -1.371      0.170     -15.180       2.686\n",
      "dmy_single                       61.9498      5.239     11.825      0.000      51.680      72.219\n",
      "dmy_personal auto             -2.186e+13   1.75e+14     -0.125      0.900   -3.64e+14    3.21e+14\n",
      "dmy_special auto              -2.282e+11   1.82e+12     -0.125      0.900    -3.8e+12    3.35e+12\n",
      "dmy_corporate l2                 -9.0548      9.500     -0.953      0.341     -27.678       9.568\n",
      "dmy_corporate l3                 -5.9349      8.631     -0.688      0.492     -22.853      10.984\n",
      "dmy_personal l1                2.186e+13   1.75e+14      0.125      0.900   -3.21e+14    3.64e+14\n",
      "dmy_personal l2                2.186e+13   1.75e+14      0.125      0.900   -3.21e+14    3.64e+14\n",
      "dmy_personal l3                2.186e+13   1.75e+14      0.125      0.900   -3.21e+14    3.64e+14\n",
      "dmy_special l1                 2.282e+11   1.82e+12      0.125      0.900   -3.35e+12     3.8e+12\n",
      "dmy_special l2                 2.282e+11   1.82e+12      0.125      0.900   -3.35e+12     3.8e+12\n",
      "dmy_special l3                 2.282e+11   1.82e+12      0.125      0.900   -3.35e+12     3.8e+12\n",
      "dmy_offer2                       12.5839      3.818      3.296      0.001       5.099      20.069\n",
      "dmy_offer3                        2.2481      4.590      0.490      0.624      -6.750      11.247\n",
      "dmy_offer4                        8.3441      5.413      1.541      0.123      -2.268      18.956\n",
      "dmy_branch                        4.9889      3.798      1.313      0.189      -2.457      12.435\n",
      "dmy_call center                   1.9107      4.297      0.445      0.657      -6.512      10.334\n",
      "dmy_web                           7.8162      4.739      1.649      0.099      -1.474      17.106\n",
      "dmy_luxury car                  104.0819     24.234      4.295      0.000      56.577     151.587\n",
      "dmy_luxury suv                   56.0153     23.211      2.413      0.016      10.514     101.516\n",
      "dmy_sports car                  -11.6599      9.484     -1.229      0.219     -30.251       6.931\n",
      "dmy_suv                         -10.6604      7.377     -1.445      0.149     -25.122       3.802\n",
      "dmy_two-door car                 -0.9556      3.894     -0.245      0.806      -8.590       6.678\n",
      "dmy_medsize                      -4.6679      5.043     -0.926      0.355     -14.554       5.219\n",
      "dmy_small                         4.8252      5.912      0.816      0.414      -6.764      16.414\n",
      "==============================================================================\n",
      "Omnibus:                     2673.222   Durbin-Watson:                   1.988\n",
      "Prob(Omnibus):                  0.000   Jarque-Bera (JB):            20208.570\n",
      "Skew:                           1.570   Prob(JB):                         0.00\n",
      "Kurtosis:                      10.558   Cond. No.                     2.25e+15\n",
      "==============================================================================\n",
      "\n",
      "Notes:\n",
      "[1] Standard Errors assume that the covariance matrix of the errors is correctly specified.\n",
      "[2] The smallest eigenvalue is 7.31e-27. This might indicate that there are\n",
      "strong multicollinearity problems or that the design matrix is singular.\n"
     ]
    }
   ],
   "source": [
    "X_train_const_ct = sm.add_constant(X_train) # adding a constant\n",
    "\n",
    "model = sm.OLS(y_train, X_train_const_ct).fit()\n",
    "predictions_train = model.predict(X_train_const_ct)\n",
    "\n",
    "X_test_const_ct = sm.add_constant(X_test) # adding a constant\n",
    "predictions_test = model.predict(X_test_const_ct)\n",
    "print_model = model.summary()\n",
    "print(print_model)\n"
   ],
   "metadata": {
    "collapsed": false
   }
  },
  {
   "cell_type": "code",
   "execution_count": 18,
   "outputs": [
    {
     "data": {
      "text/plain": "const                            1.037792e+02\ncustomer_lifetime_value         -1.880788e+00\nincome                          -6.879812e+00\nmonthly_premium_auto             1.375352e+02\nmonths_since_last_claim          3.715650e+00\nmonths_since_policy_inception   -1.747236e+00\nnumber_of_open_complaints       -3.232310e+00\nnumber_of_policies               3.686445e+00\ndmy_east                         3.707273e+00\ndmy_north west                   7.124066e-01\ndmy_west region                  1.096442e+01\ndmy_yes                         -1.808123e+01\ndmy_extended                    -1.225784e+01\ndmy_premium                     -6.975014e+00\ndmy_college                     -8.332455e+00\ndmy_doctor                      -1.540634e+01\ndmy_high school or below         1.022052e+01\ndmy_master                      -1.044332e+01\ndmy_jan                          2.835529e+00\ndmy_employed                    -1.949290e+00\ndmy_medical leave                9.355531e+00\ndmy_retired                      8.960035e-02\ndmy_unemployed                   8.216717e+01\ndmy_m                            1.116529e+01\ndmy_suburban                     3.667171e+02\ndmy_urban                        2.157159e+02\ndmy_married                     -6.247241e+00\ndmy_single                       6.194984e+01\ndmy_personal auto               -2.185641e+13\ndmy_special auto                -2.281745e+11\ndmy_corporate l2                -9.054797e+00\ndmy_corporate l3                -5.934913e+00\ndmy_personal l1                  2.185641e+13\ndmy_personal l2                  2.185641e+13\ndmy_personal l3                  2.185641e+13\ndmy_special l1                   2.281745e+11\ndmy_special l2                   2.281745e+11\ndmy_special l3                   2.281745e+11\ndmy_offer2                       1.258388e+01\ndmy_offer3                       2.248103e+00\ndmy_offer4                       8.344083e+00\ndmy_branch                       4.988922e+00\ndmy_call center                  1.910670e+00\ndmy_web                          7.816159e+00\ndmy_luxury car                   1.040819e+02\ndmy_luxury suv                   5.601533e+01\ndmy_sports car                  -1.165992e+01\ndmy_suv                         -1.066036e+01\ndmy_two-door car                -9.556474e-01\ndmy_medsize                     -4.667911e+00\ndmy_small                        4.825176e+00\ndtype: float64"
     },
     "execution_count": 18,
     "metadata": {},
     "output_type": "execute_result"
    }
   ],
   "source": [
    "model.params"
   ],
   "metadata": {
    "collapsed": false
   }
  },
  {
   "cell_type": "code",
   "execution_count": 19,
   "outputs": [
    {
     "data": {
      "text/plain": "['const',\n 'income',\n 'monthly_premium_auto',\n 'months_since_last_claim',\n 'number_of_open_complaints',\n 'number_of_policies',\n 'dmy_west region',\n 'dmy_yes',\n 'dmy_extended',\n 'dmy_college',\n 'dmy_high school or below',\n 'dmy_unemployed',\n 'dmy_m',\n 'dmy_suburban',\n 'dmy_urban',\n 'dmy_single',\n 'dmy_offer2',\n 'dmy_luxury car',\n 'dmy_luxury suv']"
     },
     "execution_count": 19,
     "metadata": {},
     "output_type": "execute_result"
    }
   ],
   "source": [
    "sigparams = model.params[list(np.where(model.pvalues < 0.05)[0])].iloc[0:].index.tolist()\n",
    "sigparams"
   ],
   "metadata": {
    "collapsed": false
   }
  },
  {
   "cell_type": "code",
   "execution_count": 20,
   "outputs": [],
   "source": [
    "from statsmodels.formula.api import ols"
   ],
   "metadata": {
    "collapsed": false
   }
  },
  {
   "cell_type": "code",
   "execution_count": 21,
   "outputs": [],
   "source": [
    "X_train_df = fill_whitespace_with_underscore(pd.DataFrame(X_train, columns=X.columns))\n",
    "y_train_df = pd.DataFrame(y_train)\n",
    "data = pd.concat([X_train_df, y_train_df], axis=1)"
   ],
   "metadata": {
    "collapsed": false
   }
  },
  {
   "cell_type": "code",
   "execution_count": 22,
   "outputs": [
    {
     "data": {
      "text/plain": "['customer_lifetime_value',\n 'income',\n 'monthly_premium_auto',\n 'months_since_last_claim',\n 'months_since_policy_inception',\n 'number_of_open_complaints',\n 'number_of_policies',\n 'dmy_east',\n 'dmy_north_west',\n 'dmy_west_region',\n 'dmy_yes',\n 'dmy_extended',\n 'dmy_premium',\n 'dmy_college',\n 'dmy_doctor',\n 'dmy_high_school_or_below',\n 'dmy_master',\n 'dmy_jan',\n 'dmy_employed',\n 'dmy_medical_leave',\n 'dmy_retired',\n 'dmy_unemployed',\n 'dmy_m',\n 'dmy_suburban',\n 'dmy_urban',\n 'dmy_married',\n 'dmy_single',\n 'dmy_personal_auto',\n 'dmy_special_auto',\n 'dmy_corporate_l2',\n 'dmy_corporate_l3',\n 'dmy_personal_l1',\n 'dmy_personal_l2',\n 'dmy_personal_l3',\n 'dmy_special_l1',\n 'dmy_special_l2',\n 'dmy_special_l3',\n 'dmy_offer2',\n 'dmy_offer3',\n 'dmy_offer4',\n 'dmy_branch',\n 'dmy_call_center',\n 'dmy_web',\n 'dmy_luxury_car',\n 'dmy_luxury_suv',\n 'dmy_sports_car',\n 'dmy_suv',\n 'dmy_two_door_car',\n 'dmy_medsize',\n 'dmy_small']"
     },
     "execution_count": 22,
     "metadata": {},
     "output_type": "execute_result"
    }
   ],
   "source": [
    "headers = list(data.columns[:-1])\n",
    "headers"
   ],
   "metadata": {
    "collapsed": false
   }
  },
  {
   "cell_type": "code",
   "execution_count": 23,
   "outputs": [
    {
     "data": {
      "text/plain": "'total_claim_amount~customer_lifetime_value+income+monthly_premium_auto+months_since_last_claim+months_since_policy_inception+number_of_open_complaints+number_of_policies+dmy_east+dmy_north_west+dmy_west_region+dmy_yes+dmy_extended+dmy_premium+dmy_college+dmy_doctor+dmy_high_school_or_below+dmy_master+dmy_jan+dmy_employed+dmy_medical_leave+dmy_retired+dmy_unemployed+dmy_m+dmy_suburban+dmy_urban+dmy_married+dmy_single+dmy_personal_auto+dmy_special_auto+dmy_corporate_l2+dmy_corporate_l3+dmy_personal_l1+dmy_personal_l2+dmy_personal_l3+dmy_special_l1+dmy_special_l2+dmy_special_l3+dmy_offer2+dmy_offer3+dmy_offer4+dmy_branch+dmy_call_center+dmy_web+dmy_luxury_car+dmy_luxury_suv+dmy_sports_car+dmy_suv+dmy_two_door_car+dmy_medsize+dmy_small'"
     },
     "execution_count": 23,
     "metadata": {},
     "output_type": "execute_result"
    }
   ],
   "source": [
    "eqn = 'total_claim_amount~' + '+'.join(headers)\n",
    "eqn"
   ],
   "metadata": {
    "collapsed": false
   }
  },
  {
   "cell_type": "code",
   "execution_count": 24,
   "outputs": [],
   "source": [
    "model = ols(formula=eqn,data=data).fit()"
   ],
   "metadata": {
    "collapsed": false
   }
  },
  {
   "cell_type": "code",
   "execution_count": 25,
   "outputs": [
    {
     "data": {
      "text/plain": "<class 'statsmodels.iolib.summary.Summary'>\n\"\"\"\n                            OLS Regression Results                            \n==============================================================================\nDep. Variable:     total_claim_amount   R-squared:                       0.758\nModel:                            OLS   Adj. R-squared:                  0.756\nMethod:                 Least Squares   F-statistic:                     469.0\nDate:                Thu, 02 Feb 2023   Prob (F-statistic):               0.00\nTime:                        23:50:46   Log-Likelihood:                -45426.\nNo. Observations:                7241   AIC:                         9.095e+04\nDf Residuals:                    7192   BIC:                         9.129e+04\nDf Model:                          48                                         \nCovariance Type:            nonrobust                                         \n=================================================================================================\n                                    coef    std err          t      P>|t|      [0.025      0.975]\n-------------------------------------------------------------------------------------------------\nIntercept                       103.7792     13.679      7.587      0.000      76.964     130.594\ncustomer_lifetime_value          -1.8808      1.611     -1.168      0.243      -5.039       1.277\nincome                           -6.8798      1.748     -3.936      0.000     -10.306      -3.454\nmonthly_premium_auto            137.5352      4.198     32.764      0.000     129.306     145.764\nmonths_since_last_claim           3.7157      1.522      2.441      0.015       0.732       6.699\nmonths_since_policy_inception    -1.7472      1.532     -1.140      0.254      -4.751       1.256\nnumber_of_open_complaints        -3.2323      1.528     -2.116      0.034      -6.227      -0.238\nnumber_of_policies                3.6864      1.536      2.400      0.016       0.675       6.697\ndmy_east                          3.7073      5.945      0.624      0.533      -7.948      15.362\ndmy_north_west                    0.7124      4.032      0.177      0.860      -7.192       8.617\ndmy_west_region                  10.9644      3.850      2.848      0.004       3.417      18.512\ndmy_yes                         -18.0812      4.972     -3.637      0.000     -27.828      -8.334\ndmy_extended                    -12.2578      4.582     -2.675      0.007     -21.239      -3.277\ndmy_premium                      -6.9750      8.940     -0.780      0.435     -24.500      10.550\ndmy_college                      -8.3325      3.944     -2.113      0.035     -16.063      -0.602\ndmy_doctor                      -15.4063      8.391     -1.836      0.066     -31.855       1.043\ndmy_high_school_or_below         10.2205      3.993      2.560      0.010       2.394      18.047\ndmy_master                      -10.4433      6.081     -1.717      0.086     -22.364       1.477\ndmy_jan                           2.8355      3.044      0.932      0.352      -3.131       8.802\ndmy_employed                     -1.9493      7.826     -0.249      0.803     -17.290      13.392\ndmy_medical_leave                 9.3555      9.919      0.943      0.346     -10.089      28.800\ndmy_retired                       0.0896     11.639      0.008      0.994     -22.726      22.905\ndmy_unemployed                   82.1672      8.264      9.943      0.000      65.967      98.367\ndmy_m                            11.1653      3.067      3.641      0.000       5.153      17.177\ndmy_suburban                    366.7171      4.383     83.662      0.000     358.124     375.310\ndmy_urban                       215.7159      4.981     43.310      0.000     205.952     225.480\ndmy_married                      -6.2472      4.557     -1.371      0.170     -15.180       2.686\ndmy_single                       61.9498      5.239     11.825      0.000      51.680      72.219\ndmy_personal_auto             -2.186e+13   1.75e+14     -0.125      0.900   -3.64e+14    3.21e+14\ndmy_special_auto              -2.282e+11   1.82e+12     -0.125      0.900    -3.8e+12    3.35e+12\ndmy_corporate_l2                 -9.0548      9.500     -0.953      0.341     -27.678       9.568\ndmy_corporate_l3                 -5.9349      8.631     -0.688      0.492     -22.853      10.984\ndmy_personal_l1                2.186e+13   1.75e+14      0.125      0.900   -3.21e+14    3.64e+14\ndmy_personal_l2                2.186e+13   1.75e+14      0.125      0.900   -3.21e+14    3.64e+14\ndmy_personal_l3                2.186e+13   1.75e+14      0.125      0.900   -3.21e+14    3.64e+14\ndmy_special_l1                 2.282e+11   1.82e+12      0.125      0.900   -3.35e+12     3.8e+12\ndmy_special_l2                 2.282e+11   1.82e+12      0.125      0.900   -3.35e+12     3.8e+12\ndmy_special_l3                 2.282e+11   1.82e+12      0.125      0.900   -3.35e+12     3.8e+12\ndmy_offer2                       12.5839      3.818      3.296      0.001       5.099      20.069\ndmy_offer3                        2.2481      4.590      0.490      0.624      -6.750      11.247\ndmy_offer4                        8.3441      5.413      1.541      0.123      -2.268      18.956\ndmy_branch                        4.9889      3.798      1.313      0.189      -2.457      12.435\ndmy_call_center                   1.9107      4.297      0.445      0.657      -6.512      10.334\ndmy_web                           7.8162      4.739      1.649      0.099      -1.474      17.106\ndmy_luxury_car                  104.0819     24.234      4.295      0.000      56.577     151.587\ndmy_luxury_suv                   56.0153     23.211      2.413      0.016      10.514     101.516\ndmy_sports_car                  -11.6599      9.484     -1.229      0.219     -30.251       6.931\ndmy_suv                         -10.6604      7.377     -1.445      0.149     -25.122       3.802\ndmy_two_door_car                 -0.9556      3.894     -0.245      0.806      -8.590       6.678\ndmy_medsize                      -4.6679      5.043     -0.926      0.355     -14.554       5.219\ndmy_small                         4.8252      5.912      0.816      0.414      -6.764      16.414\n==============================================================================\nOmnibus:                     2673.217   Durbin-Watson:                   1.988\nProb(Omnibus):                  0.000   Jarque-Bera (JB):            20208.494\nSkew:                           1.570   Prob(JB):                         0.00\nKurtosis:                      10.558   Cond. No.                     2.25e+15\n==============================================================================\n\nNotes:\n[1] Standard Errors assume that the covariance matrix of the errors is correctly specified.\n[2] The smallest eigenvalue is 7.31e-27. This might indicate that there are\nstrong multicollinearity problems or that the design matrix is singular.\n\"\"\"",
      "text/html": "<table class=\"simpletable\">\n<caption>OLS Regression Results</caption>\n<tr>\n  <th>Dep. Variable:</th>    <td>total_claim_amount</td> <th>  R-squared:         </th> <td>   0.758</td> \n</tr>\n<tr>\n  <th>Model:</th>                    <td>OLS</td>        <th>  Adj. R-squared:    </th> <td>   0.756</td> \n</tr>\n<tr>\n  <th>Method:</th>              <td>Least Squares</td>   <th>  F-statistic:       </th> <td>   469.0</td> \n</tr>\n<tr>\n  <th>Date:</th>              <td>Thu, 02 Feb 2023</td>  <th>  Prob (F-statistic):</th>  <td>  0.00</td>  \n</tr>\n<tr>\n  <th>Time:</th>                  <td>23:50:46</td>      <th>  Log-Likelihood:    </th> <td> -45426.</td> \n</tr>\n<tr>\n  <th>No. Observations:</th>       <td>  7241</td>       <th>  AIC:               </th> <td>9.095e+04</td>\n</tr>\n<tr>\n  <th>Df Residuals:</th>           <td>  7192</td>       <th>  BIC:               </th> <td>9.129e+04</td>\n</tr>\n<tr>\n  <th>Df Model:</th>               <td>    48</td>       <th>                     </th>     <td> </td>    \n</tr>\n<tr>\n  <th>Covariance Type:</th>       <td>nonrobust</td>     <th>                     </th>     <td> </td>    \n</tr>\n</table>\n<table class=\"simpletable\">\n<tr>\n                <td></td>                   <th>coef</th>     <th>std err</th>      <th>t</th>      <th>P>|t|</th>  <th>[0.025</th>    <th>0.975]</th>  \n</tr>\n<tr>\n  <th>Intercept</th>                     <td>  103.7792</td> <td>   13.679</td> <td>    7.587</td> <td> 0.000</td> <td>   76.964</td> <td>  130.594</td>\n</tr>\n<tr>\n  <th>customer_lifetime_value</th>       <td>   -1.8808</td> <td>    1.611</td> <td>   -1.168</td> <td> 0.243</td> <td>   -5.039</td> <td>    1.277</td>\n</tr>\n<tr>\n  <th>income</th>                        <td>   -6.8798</td> <td>    1.748</td> <td>   -3.936</td> <td> 0.000</td> <td>  -10.306</td> <td>   -3.454</td>\n</tr>\n<tr>\n  <th>monthly_premium_auto</th>          <td>  137.5352</td> <td>    4.198</td> <td>   32.764</td> <td> 0.000</td> <td>  129.306</td> <td>  145.764</td>\n</tr>\n<tr>\n  <th>months_since_last_claim</th>       <td>    3.7157</td> <td>    1.522</td> <td>    2.441</td> <td> 0.015</td> <td>    0.732</td> <td>    6.699</td>\n</tr>\n<tr>\n  <th>months_since_policy_inception</th> <td>   -1.7472</td> <td>    1.532</td> <td>   -1.140</td> <td> 0.254</td> <td>   -4.751</td> <td>    1.256</td>\n</tr>\n<tr>\n  <th>number_of_open_complaints</th>     <td>   -3.2323</td> <td>    1.528</td> <td>   -2.116</td> <td> 0.034</td> <td>   -6.227</td> <td>   -0.238</td>\n</tr>\n<tr>\n  <th>number_of_policies</th>            <td>    3.6864</td> <td>    1.536</td> <td>    2.400</td> <td> 0.016</td> <td>    0.675</td> <td>    6.697</td>\n</tr>\n<tr>\n  <th>dmy_east</th>                      <td>    3.7073</td> <td>    5.945</td> <td>    0.624</td> <td> 0.533</td> <td>   -7.948</td> <td>   15.362</td>\n</tr>\n<tr>\n  <th>dmy_north_west</th>                <td>    0.7124</td> <td>    4.032</td> <td>    0.177</td> <td> 0.860</td> <td>   -7.192</td> <td>    8.617</td>\n</tr>\n<tr>\n  <th>dmy_west_region</th>               <td>   10.9644</td> <td>    3.850</td> <td>    2.848</td> <td> 0.004</td> <td>    3.417</td> <td>   18.512</td>\n</tr>\n<tr>\n  <th>dmy_yes</th>                       <td>  -18.0812</td> <td>    4.972</td> <td>   -3.637</td> <td> 0.000</td> <td>  -27.828</td> <td>   -8.334</td>\n</tr>\n<tr>\n  <th>dmy_extended</th>                  <td>  -12.2578</td> <td>    4.582</td> <td>   -2.675</td> <td> 0.007</td> <td>  -21.239</td> <td>   -3.277</td>\n</tr>\n<tr>\n  <th>dmy_premium</th>                   <td>   -6.9750</td> <td>    8.940</td> <td>   -0.780</td> <td> 0.435</td> <td>  -24.500</td> <td>   10.550</td>\n</tr>\n<tr>\n  <th>dmy_college</th>                   <td>   -8.3325</td> <td>    3.944</td> <td>   -2.113</td> <td> 0.035</td> <td>  -16.063</td> <td>   -0.602</td>\n</tr>\n<tr>\n  <th>dmy_doctor</th>                    <td>  -15.4063</td> <td>    8.391</td> <td>   -1.836</td> <td> 0.066</td> <td>  -31.855</td> <td>    1.043</td>\n</tr>\n<tr>\n  <th>dmy_high_school_or_below</th>      <td>   10.2205</td> <td>    3.993</td> <td>    2.560</td> <td> 0.010</td> <td>    2.394</td> <td>   18.047</td>\n</tr>\n<tr>\n  <th>dmy_master</th>                    <td>  -10.4433</td> <td>    6.081</td> <td>   -1.717</td> <td> 0.086</td> <td>  -22.364</td> <td>    1.477</td>\n</tr>\n<tr>\n  <th>dmy_jan</th>                       <td>    2.8355</td> <td>    3.044</td> <td>    0.932</td> <td> 0.352</td> <td>   -3.131</td> <td>    8.802</td>\n</tr>\n<tr>\n  <th>dmy_employed</th>                  <td>   -1.9493</td> <td>    7.826</td> <td>   -0.249</td> <td> 0.803</td> <td>  -17.290</td> <td>   13.392</td>\n</tr>\n<tr>\n  <th>dmy_medical_leave</th>             <td>    9.3555</td> <td>    9.919</td> <td>    0.943</td> <td> 0.346</td> <td>  -10.089</td> <td>   28.800</td>\n</tr>\n<tr>\n  <th>dmy_retired</th>                   <td>    0.0896</td> <td>   11.639</td> <td>    0.008</td> <td> 0.994</td> <td>  -22.726</td> <td>   22.905</td>\n</tr>\n<tr>\n  <th>dmy_unemployed</th>                <td>   82.1672</td> <td>    8.264</td> <td>    9.943</td> <td> 0.000</td> <td>   65.967</td> <td>   98.367</td>\n</tr>\n<tr>\n  <th>dmy_m</th>                         <td>   11.1653</td> <td>    3.067</td> <td>    3.641</td> <td> 0.000</td> <td>    5.153</td> <td>   17.177</td>\n</tr>\n<tr>\n  <th>dmy_suburban</th>                  <td>  366.7171</td> <td>    4.383</td> <td>   83.662</td> <td> 0.000</td> <td>  358.124</td> <td>  375.310</td>\n</tr>\n<tr>\n  <th>dmy_urban</th>                     <td>  215.7159</td> <td>    4.981</td> <td>   43.310</td> <td> 0.000</td> <td>  205.952</td> <td>  225.480</td>\n</tr>\n<tr>\n  <th>dmy_married</th>                   <td>   -6.2472</td> <td>    4.557</td> <td>   -1.371</td> <td> 0.170</td> <td>  -15.180</td> <td>    2.686</td>\n</tr>\n<tr>\n  <th>dmy_single</th>                    <td>   61.9498</td> <td>    5.239</td> <td>   11.825</td> <td> 0.000</td> <td>   51.680</td> <td>   72.219</td>\n</tr>\n<tr>\n  <th>dmy_personal_auto</th>             <td>-2.186e+13</td> <td> 1.75e+14</td> <td>   -0.125</td> <td> 0.900</td> <td>-3.64e+14</td> <td> 3.21e+14</td>\n</tr>\n<tr>\n  <th>dmy_special_auto</th>              <td>-2.282e+11</td> <td> 1.82e+12</td> <td>   -0.125</td> <td> 0.900</td> <td> -3.8e+12</td> <td> 3.35e+12</td>\n</tr>\n<tr>\n  <th>dmy_corporate_l2</th>              <td>   -9.0548</td> <td>    9.500</td> <td>   -0.953</td> <td> 0.341</td> <td>  -27.678</td> <td>    9.568</td>\n</tr>\n<tr>\n  <th>dmy_corporate_l3</th>              <td>   -5.9349</td> <td>    8.631</td> <td>   -0.688</td> <td> 0.492</td> <td>  -22.853</td> <td>   10.984</td>\n</tr>\n<tr>\n  <th>dmy_personal_l1</th>               <td> 2.186e+13</td> <td> 1.75e+14</td> <td>    0.125</td> <td> 0.900</td> <td>-3.21e+14</td> <td> 3.64e+14</td>\n</tr>\n<tr>\n  <th>dmy_personal_l2</th>               <td> 2.186e+13</td> <td> 1.75e+14</td> <td>    0.125</td> <td> 0.900</td> <td>-3.21e+14</td> <td> 3.64e+14</td>\n</tr>\n<tr>\n  <th>dmy_personal_l3</th>               <td> 2.186e+13</td> <td> 1.75e+14</td> <td>    0.125</td> <td> 0.900</td> <td>-3.21e+14</td> <td> 3.64e+14</td>\n</tr>\n<tr>\n  <th>dmy_special_l1</th>                <td> 2.282e+11</td> <td> 1.82e+12</td> <td>    0.125</td> <td> 0.900</td> <td>-3.35e+12</td> <td>  3.8e+12</td>\n</tr>\n<tr>\n  <th>dmy_special_l2</th>                <td> 2.282e+11</td> <td> 1.82e+12</td> <td>    0.125</td> <td> 0.900</td> <td>-3.35e+12</td> <td>  3.8e+12</td>\n</tr>\n<tr>\n  <th>dmy_special_l3</th>                <td> 2.282e+11</td> <td> 1.82e+12</td> <td>    0.125</td> <td> 0.900</td> <td>-3.35e+12</td> <td>  3.8e+12</td>\n</tr>\n<tr>\n  <th>dmy_offer2</th>                    <td>   12.5839</td> <td>    3.818</td> <td>    3.296</td> <td> 0.001</td> <td>    5.099</td> <td>   20.069</td>\n</tr>\n<tr>\n  <th>dmy_offer3</th>                    <td>    2.2481</td> <td>    4.590</td> <td>    0.490</td> <td> 0.624</td> <td>   -6.750</td> <td>   11.247</td>\n</tr>\n<tr>\n  <th>dmy_offer4</th>                    <td>    8.3441</td> <td>    5.413</td> <td>    1.541</td> <td> 0.123</td> <td>   -2.268</td> <td>   18.956</td>\n</tr>\n<tr>\n  <th>dmy_branch</th>                    <td>    4.9889</td> <td>    3.798</td> <td>    1.313</td> <td> 0.189</td> <td>   -2.457</td> <td>   12.435</td>\n</tr>\n<tr>\n  <th>dmy_call_center</th>               <td>    1.9107</td> <td>    4.297</td> <td>    0.445</td> <td> 0.657</td> <td>   -6.512</td> <td>   10.334</td>\n</tr>\n<tr>\n  <th>dmy_web</th>                       <td>    7.8162</td> <td>    4.739</td> <td>    1.649</td> <td> 0.099</td> <td>   -1.474</td> <td>   17.106</td>\n</tr>\n<tr>\n  <th>dmy_luxury_car</th>                <td>  104.0819</td> <td>   24.234</td> <td>    4.295</td> <td> 0.000</td> <td>   56.577</td> <td>  151.587</td>\n</tr>\n<tr>\n  <th>dmy_luxury_suv</th>                <td>   56.0153</td> <td>   23.211</td> <td>    2.413</td> <td> 0.016</td> <td>   10.514</td> <td>  101.516</td>\n</tr>\n<tr>\n  <th>dmy_sports_car</th>                <td>  -11.6599</td> <td>    9.484</td> <td>   -1.229</td> <td> 0.219</td> <td>  -30.251</td> <td>    6.931</td>\n</tr>\n<tr>\n  <th>dmy_suv</th>                       <td>  -10.6604</td> <td>    7.377</td> <td>   -1.445</td> <td> 0.149</td> <td>  -25.122</td> <td>    3.802</td>\n</tr>\n<tr>\n  <th>dmy_two_door_car</th>              <td>   -0.9556</td> <td>    3.894</td> <td>   -0.245</td> <td> 0.806</td> <td>   -8.590</td> <td>    6.678</td>\n</tr>\n<tr>\n  <th>dmy_medsize</th>                   <td>   -4.6679</td> <td>    5.043</td> <td>   -0.926</td> <td> 0.355</td> <td>  -14.554</td> <td>    5.219</td>\n</tr>\n<tr>\n  <th>dmy_small</th>                     <td>    4.8252</td> <td>    5.912</td> <td>    0.816</td> <td> 0.414</td> <td>   -6.764</td> <td>   16.414</td>\n</tr>\n</table>\n<table class=\"simpletable\">\n<tr>\n  <th>Omnibus:</th>       <td>2673.217</td> <th>  Durbin-Watson:     </th> <td>   1.988</td> \n</tr>\n<tr>\n  <th>Prob(Omnibus):</th>  <td> 0.000</td>  <th>  Jarque-Bera (JB):  </th> <td>20208.494</td>\n</tr>\n<tr>\n  <th>Skew:</th>           <td> 1.570</td>  <th>  Prob(JB):          </th> <td>    0.00</td> \n</tr>\n<tr>\n  <th>Kurtosis:</th>       <td>10.558</td>  <th>  Cond. No.          </th> <td>2.25e+15</td> \n</tr>\n</table><br/><br/>Notes:<br/>[1] Standard Errors assume that the covariance matrix of the errors is correctly specified.<br/>[2] The smallest eigenvalue is 7.31e-27. This might indicate that there are<br/>strong multicollinearity problems or that the design matrix is singular."
     },
     "execution_count": 25,
     "metadata": {},
     "output_type": "execute_result"
    }
   ],
   "source": [
    "model.summary()"
   ],
   "metadata": {
    "collapsed": false
   }
  },
  {
   "cell_type": "code",
   "execution_count": 25,
   "outputs": [],
   "source": [],
   "metadata": {
    "collapsed": false
   }
  }
 ],
 "metadata": {
  "kernelspec": {
   "display_name": "Python 3 (ipykernel)",
   "language": "python",
   "name": "python3"
  },
  "language_info": {
   "codemirror_mode": {
    "name": "ipython",
    "version": 3
   },
   "file_extension": ".py",
   "mimetype": "text/x-python",
   "name": "python",
   "nbconvert_exporter": "python",
   "pygments_lexer": "ipython3",
   "version": "3.9.13"
  },
  "toc": {
   "base_numbering": 1,
   "nav_menu": {},
   "number_sections": true,
   "sideBar": true,
   "skip_h1_title": false,
   "title_cell": "Table of Contents",
   "title_sidebar": "Contents",
   "toc_cell": false,
   "toc_position": {
    "height": "calc(100% - 180px)",
    "left": "10px",
    "top": "150px",
    "width": "271.6px"
   },
   "toc_section_display": true,
   "toc_window_display": true
  },
  "varInspector": {
   "cols": {
    "lenName": 16,
    "lenType": 16,
    "lenVar": 40
   },
   "kernels_config": {
    "python": {
     "delete_cmd_postfix": "",
     "delete_cmd_prefix": "del ",
     "library": "var_list.py",
     "varRefreshCmd": "print(var_dic_list())"
    },
    "r": {
     "delete_cmd_postfix": ") ",
     "delete_cmd_prefix": "rm(",
     "library": "var_list.r",
     "varRefreshCmd": "cat(var_dic_list()) "
    }
   },
   "types_to_exclude": [
    "module",
    "function",
    "builtin_function_or_method",
    "instance",
    "_Feature"
   ],
   "window_display": false
  }
 },
 "nbformat": 4,
 "nbformat_minor": 5
}
