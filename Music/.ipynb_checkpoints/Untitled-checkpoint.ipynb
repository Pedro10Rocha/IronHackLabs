{
 "cells": [
  {
   "cell_type": "code",
   "execution_count": null,
   "id": "0f8cc24c",
   "metadata": {},
   "outputs": [],
   "source": [
    "import numpy as np\n",
    "import pandas as pd\n",
    "import pickle\n",
    "from sklearn import datasets # sklearn comes with some toy datasets to practise\n",
    "from sklearn.preprocessing import StandardScaler\n",
    "from sklearn.cluster import KMeans\n",
    "from matplotlib import pyplot\n",
    "from sklearn.metrics import silhouette_score\n",
    "from bs4 import BeautifulSoup\n",
    "df = pd.read_csv('musics.csv', index_col=0)"
   ]
  },
  {
   "cell_type": "code",
   "execution_count": null,
   "id": "7d8c7a3b",
   "metadata": {},
   "outputs": [],
   "source": [
    "#Scaling features\n",
    "df"
   ]
  },
  {
   "cell_type": "code",
   "execution_count": null,
   "id": "5570057c",
   "metadata": {},
   "outputs": [],
   "source": [
    "#separete numerical values for the scaling\n",
    "numeric = df.select_dtypes(include=[np.number])\n",
    "categorical = df.select_dtypes(exclude=[np.number])"
   ]
  },
  {
   "cell_type": "code",
   "execution_count": null,
   "id": "31e8847f",
   "metadata": {},
   "outputs": [],
   "source": [
    "#scaling the numerical values\n",
    "scaler = StandardScaler()\n",
    "scaler.fit(numeric)\n",
    "n_scaled = scaler.transform(numeric)\n",
    "n_scaled_df = pd.DataFrame(n_scaled, columns = numeric.columns)\n",
    "display(numeric.head())\n",
    "print()\n",
    "display(n_scaled_df.head())"
   ]
  },
  {
   "cell_type": "code",
   "execution_count": null,
   "id": "2bdf3c13",
   "metadata": {},
   "outputs": [],
   "source": [
    "categorical = categorical.reset_index(drop=True)\n",
    "categorical"
   ]
  },
  {
   "cell_type": "code",
   "execution_count": null,
   "id": "fb891293",
   "metadata": {},
   "outputs": [],
   "source": [
    "#Choosing the numbers of ks with elbow \n",
    "K = range(2, 15)\n",
    "inertia = []\n",
    "\n",
    "for k in K:\n",
    "    print(\"Training a K-Means model with {} clusters! \".format(k))\n",
    "    print()\n",
    "    kmeans = KMeans(n_clusters=k,\n",
    "                    random_state=1234)\n",
    "    kmeans.fit(n_scaled_df)\n",
    "    inertia.append(kmeans.inertia_)\n",
    "\n",
    "import numpy as np\n",
    "import matplotlib.pyplot as plt\n",
    "%matplotlib inline\n",
    "\n",
    "plt.figure(figsize=(16,8))\n",
    "plt.plot(K, inertia, 'bx-')\n",
    "plt.xlabel('k')\n",
    "plt.ylabel('inertia')\n",
    "plt.xticks(np.arange(min(K), max(K)+1, 1.0))\n",
    "plt.title('Elbow Method showing the optimal k')"
   ]
  },
  {
   "cell_type": "code",
   "execution_count": null,
   "id": "8bcf27ed",
   "metadata": {},
   "outputs": [],
   "source": [
    "#Clustering\n",
    "kmeans = KMeans(n_clusters=8, random_state=1234)\n",
    "kmeans.fit(n_scaled_df)"
   ]
  },
  {
   "cell_type": "code",
   "execution_count": null,
   "id": "71fb0c0b",
   "metadata": {},
   "outputs": [],
   "source": [
    "#adding labels\n",
    "kmeans.labels_"
   ]
  },
  {
   "cell_type": "code",
   "execution_count": null,
   "id": "c34e3f79",
   "metadata": {},
   "outputs": [],
   "source": [
    "# assign a cluster to each example\n",
    "labels = kmeans.predict(n_scaled_df)\n",
    "# retrieve unique clusters\n",
    "clusters = np.unique(labels)\n",
    "\n",
    "for cluster in clusters:\n",
    "    # get row indexes for samples with this cluster\n",
    "    row_ix = np.where(labels == cluster)\n",
    "    # create scatter of these samples\n",
    "    pyplot.scatter(df.to_numpy()[row_ix, 1], df.to_numpy()[row_ix, 3])\n",
    "    # show the plot\n",
    "pyplot.show()"
   ]
  },
  {
   "cell_type": "code",
   "execution_count": 169,
   "id": "837c3cb7",
   "metadata": {},
   "outputs": [
    {
     "data": {
      "text/plain": [
       "0       4\n",
       "1       5\n",
       "2       5\n",
       "3       5\n",
       "4       1\n",
       "       ..\n",
       "2550    0\n",
       "2551    0\n",
       "2552    1\n",
       "2553    1\n",
       "2554    0\n",
       "Length: 2555, dtype: int32"
      ]
     },
     "execution_count": 169,
     "metadata": {},
     "output_type": "execute_result"
    }
   ],
   "source": [
    "clusters = kmeans.predict(n_scaled_df)\n",
    "#clusters\n",
    "clusters = pd.Series(clusters).sort_index()\n",
    "clusters"
   ]
  },
  {
   "cell_type": "code",
   "execution_count": 170,
   "id": "7a6d7dc4",
   "metadata": {},
   "outputs": [],
   "source": [
    "songs = pd.concat([n_scaled_df, categorical, clusters], axis=1)\n",
    "songs = songs.rename(columns = {'0':'Clusters'}, inplace = True)"
   ]
  },
  {
   "cell_type": "code",
   "execution_count": null,
   "id": "5bacc8b1",
   "metadata": {
    "collapsed": true
   },
   "outputs": [],
   "source": []
  },
  {
   "cell_type": "code",
   "execution_count": 171,
   "id": "ccfb3ce7",
   "metadata": {},
   "outputs": [],
   "source": []
  },
  {
   "cell_type": "code",
   "execution_count": null,
   "id": "8d5f0486",
   "metadata": {},
   "outputs": [],
   "source": [
    "def suggest():\n",
    "    x = input('Please write your song here:/n')\n",
    "    "
   ]
  },
  {
   "cell_type": "code",
   "execution_count": null,
   "id": "5f3a1a96",
   "metadata": {},
   "outputs": [],
   "source": []
  }
 ],
 "metadata": {
  "kernelspec": {
   "display_name": "Python 3 (ipykernel)",
   "language": "python",
   "name": "python3"
  },
  "language_info": {
   "codemirror_mode": {
    "name": "ipython",
    "version": 3
   },
   "file_extension": ".py",
   "mimetype": "text/x-python",
   "name": "python",
   "nbconvert_exporter": "python",
   "pygments_lexer": "ipython3",
   "version": "3.9.13"
  }
 },
 "nbformat": 4,
 "nbformat_minor": 5
}
